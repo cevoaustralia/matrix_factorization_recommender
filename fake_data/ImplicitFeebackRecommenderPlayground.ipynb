{
 "cells": [
  {
   "cell_type": "code",
   "execution_count": 86,
   "metadata": {
    "colab": {
     "base_uri": "https://localhost:8080/"
    },
    "executionInfo": {
     "elapsed": 8381,
     "status": "ok",
     "timestamp": 1683459973478,
     "user": {
      "displayName": "Jose Reyes",
      "userId": "00968139453480770759"
     },
     "user_tz": -600
    },
    "id": "KZorUH33sMZV",
    "outputId": "c7534a27-bbb0-4a5a-ba57-6a69ba7bb680"
   },
   "outputs": [
    {
     "name": "stdout",
     "output_type": "stream",
     "text": [
      "Requirement already satisfied: implicit in /Users/josereyes/anaconda3/lib/python3.10/site-packages (0.6.2)\n",
      "Requirement already satisfied: tqdm>=4.27 in /Users/josereyes/anaconda3/lib/python3.10/site-packages (from implicit) (4.64.1)\n",
      "Requirement already satisfied: scipy>=0.16 in /Users/josereyes/anaconda3/lib/python3.10/site-packages (from implicit) (1.10.0)\n",
      "Requirement already satisfied: numpy in /Users/josereyes/anaconda3/lib/python3.10/site-packages (from implicit) (1.23.5)\n",
      "Requirement already satisfied: ipywidgets in /Users/josereyes/anaconda3/lib/python3.10/site-packages (8.0.6)\n",
      "Requirement already satisfied: jupyterlab-widgets~=3.0.7 in /Users/josereyes/anaconda3/lib/python3.10/site-packages (from ipywidgets) (3.0.7)\n",
      "Requirement already satisfied: ipykernel>=4.5.1 in /Users/josereyes/anaconda3/lib/python3.10/site-packages (from ipywidgets) (6.19.2)\n",
      "Requirement already satisfied: traitlets>=4.3.1 in /Users/josereyes/anaconda3/lib/python3.10/site-packages (from ipywidgets) (5.7.1)\n",
      "Requirement already satisfied: ipython>=6.1.0 in /Users/josereyes/anaconda3/lib/python3.10/site-packages (from ipywidgets) (8.10.0)\n",
      "Requirement already satisfied: widgetsnbextension~=4.0.7 in /Users/josereyes/anaconda3/lib/python3.10/site-packages (from ipywidgets) (4.0.7)\n",
      "Requirement already satisfied: psutil in /Users/josereyes/anaconda3/lib/python3.10/site-packages (from ipykernel>=4.5.1->ipywidgets) (5.9.0)\n",
      "Requirement already satisfied: comm>=0.1.1 in /Users/josereyes/anaconda3/lib/python3.10/site-packages (from ipykernel>=4.5.1->ipywidgets) (0.1.2)\n",
      "Requirement already satisfied: tornado>=6.1 in /Users/josereyes/anaconda3/lib/python3.10/site-packages (from ipykernel>=4.5.1->ipywidgets) (6.1)\n",
      "Requirement already satisfied: packaging in /Users/josereyes/anaconda3/lib/python3.10/site-packages (from ipykernel>=4.5.1->ipywidgets) (22.0)\n",
      "Requirement already satisfied: jupyter-client>=6.1.12 in /Users/josereyes/anaconda3/lib/python3.10/site-packages (from ipykernel>=4.5.1->ipywidgets) (7.3.4)\n",
      "Requirement already satisfied: pyzmq>=17 in /Users/josereyes/anaconda3/lib/python3.10/site-packages (from ipykernel>=4.5.1->ipywidgets) (23.2.0)\n",
      "Requirement already satisfied: nest-asyncio in /Users/josereyes/anaconda3/lib/python3.10/site-packages (from ipykernel>=4.5.1->ipywidgets) (1.5.6)\n",
      "Requirement already satisfied: matplotlib-inline>=0.1 in /Users/josereyes/anaconda3/lib/python3.10/site-packages (from ipykernel>=4.5.1->ipywidgets) (0.1.6)\n",
      "Requirement already satisfied: debugpy>=1.0 in /Users/josereyes/anaconda3/lib/python3.10/site-packages (from ipykernel>=4.5.1->ipywidgets) (1.5.1)\n",
      "Requirement already satisfied: appnope in /Users/josereyes/anaconda3/lib/python3.10/site-packages (from ipykernel>=4.5.1->ipywidgets) (0.1.2)\n",
      "Requirement already satisfied: prompt-toolkit<3.1.0,>=3.0.30 in /Users/josereyes/anaconda3/lib/python3.10/site-packages (from ipython>=6.1.0->ipywidgets) (3.0.36)\n",
      "Requirement already satisfied: pygments>=2.4.0 in /Users/josereyes/anaconda3/lib/python3.10/site-packages (from ipython>=6.1.0->ipywidgets) (2.11.2)\n",
      "Requirement already satisfied: backcall in /Users/josereyes/anaconda3/lib/python3.10/site-packages (from ipython>=6.1.0->ipywidgets) (0.2.0)\n",
      "Requirement already satisfied: pexpect>4.3 in /Users/josereyes/anaconda3/lib/python3.10/site-packages (from ipython>=6.1.0->ipywidgets) (4.8.0)\n",
      "Requirement already satisfied: pickleshare in /Users/josereyes/anaconda3/lib/python3.10/site-packages (from ipython>=6.1.0->ipywidgets) (0.7.5)\n",
      "Requirement already satisfied: decorator in /Users/josereyes/anaconda3/lib/python3.10/site-packages (from ipython>=6.1.0->ipywidgets) (5.1.1)\n",
      "Requirement already satisfied: stack-data in /Users/josereyes/anaconda3/lib/python3.10/site-packages (from ipython>=6.1.0->ipywidgets) (0.2.0)\n",
      "Requirement already satisfied: jedi>=0.16 in /Users/josereyes/anaconda3/lib/python3.10/site-packages (from ipython>=6.1.0->ipywidgets) (0.18.1)\n",
      "Requirement already satisfied: parso<0.9.0,>=0.8.0 in /Users/josereyes/anaconda3/lib/python3.10/site-packages (from jedi>=0.16->ipython>=6.1.0->ipywidgets) (0.8.3)\n",
      "Requirement already satisfied: entrypoints in /Users/josereyes/anaconda3/lib/python3.10/site-packages (from jupyter-client>=6.1.12->ipykernel>=4.5.1->ipywidgets) (0.4)\n",
      "Requirement already satisfied: jupyter-core>=4.9.2 in /Users/josereyes/anaconda3/lib/python3.10/site-packages (from jupyter-client>=6.1.12->ipykernel>=4.5.1->ipywidgets) (5.2.0)\n",
      "Requirement already satisfied: python-dateutil>=2.8.2 in /Users/josereyes/anaconda3/lib/python3.10/site-packages (from jupyter-client>=6.1.12->ipykernel>=4.5.1->ipywidgets) (2.8.2)\n",
      "Requirement already satisfied: ptyprocess>=0.5 in /Users/josereyes/anaconda3/lib/python3.10/site-packages (from pexpect>4.3->ipython>=6.1.0->ipywidgets) (0.7.0)\n",
      "Requirement already satisfied: wcwidth in /Users/josereyes/anaconda3/lib/python3.10/site-packages (from prompt-toolkit<3.1.0,>=3.0.30->ipython>=6.1.0->ipywidgets) (0.2.5)\n",
      "Requirement already satisfied: pure-eval in /Users/josereyes/anaconda3/lib/python3.10/site-packages (from stack-data->ipython>=6.1.0->ipywidgets) (0.2.2)\n",
      "Requirement already satisfied: executing in /Users/josereyes/anaconda3/lib/python3.10/site-packages (from stack-data->ipython>=6.1.0->ipywidgets) (0.8.3)\n",
      "Requirement already satisfied: asttokens in /Users/josereyes/anaconda3/lib/python3.10/site-packages (from stack-data->ipython>=6.1.0->ipywidgets) (2.0.5)\n",
      "Requirement already satisfied: platformdirs>=2.5 in /Users/josereyes/anaconda3/lib/python3.10/site-packages (from jupyter-core>=4.9.2->jupyter-client>=6.1.12->ipykernel>=4.5.1->ipywidgets) (2.5.2)\n",
      "Requirement already satisfied: six>=1.5 in /Users/josereyes/anaconda3/lib/python3.10/site-packages (from python-dateutil>=2.8.2->jupyter-client>=6.1.12->ipykernel>=4.5.1->ipywidgets) (1.16.0)\n"
     ]
    }
   ],
   "source": [
    "! pip install implicit\n",
    "! pip install ipywidgets"
   ]
  },
  {
   "cell_type": "code",
   "execution_count": 153,
   "metadata": {
    "executionInfo": {
     "elapsed": 1,
     "status": "ok",
     "timestamp": 1683460049038,
     "user": {
      "displayName": "Jose Reyes",
      "userId": "00968139453480770759"
     },
     "user_tz": -600
    },
    "id": "YfLvjir8iWJX"
   },
   "outputs": [
    {
     "name": "stdout",
     "output_type": "stream",
     "text": [
      "Number of unique users: 1000\n",
      "Number of unique items: 2426\n",
      "Min value user index: 0\n",
      "Max value user index: 999\n",
      "Min value item index: 0\n",
      "Max value item index: 2425\n"
     ]
    },
    {
     "data": {
      "text/html": [
       "<div>\n",
       "<style scoped>\n",
       "    .dataframe tbody tr th:only-of-type {\n",
       "        vertical-align: middle;\n",
       "    }\n",
       "\n",
       "    .dataframe tbody tr th {\n",
       "        vertical-align: top;\n",
       "    }\n",
       "\n",
       "    .dataframe thead th {\n",
       "        text-align: right;\n",
       "    }\n",
       "</style>\n",
       "<table border=\"1\" class=\"dataframe\">\n",
       "  <thead>\n",
       "    <tr style=\"text-align: right;\">\n",
       "      <th></th>\n",
       "      <th>USER_ID</th>\n",
       "      <th>ITEM_ID</th>\n",
       "      <th>CONFIDENCE</th>\n",
       "      <th>USER_IDX</th>\n",
       "      <th>ITEM_IDX</th>\n",
       "    </tr>\n",
       "  </thead>\n",
       "  <tbody>\n",
       "    <tr>\n",
       "      <th>0</th>\n",
       "      <td>33</td>\n",
       "      <td>00096972-5f6b-44df-917b-f7d21ae5644c</td>\n",
       "      <td>48.0</td>\n",
       "      <td>32</td>\n",
       "      <td>0</td>\n",
       "    </tr>\n",
       "    <tr>\n",
       "      <th>1</th>\n",
       "      <td>239</td>\n",
       "      <td>00096972-5f6b-44df-917b-f7d21ae5644c</td>\n",
       "      <td>50.0</td>\n",
       "      <td>238</td>\n",
       "      <td>0</td>\n",
       "    </tr>\n",
       "    <tr>\n",
       "      <th>2</th>\n",
       "      <td>379</td>\n",
       "      <td>00096972-5f6b-44df-917b-f7d21ae5644c</td>\n",
       "      <td>16.0</td>\n",
       "      <td>378</td>\n",
       "      <td>0</td>\n",
       "    </tr>\n",
       "    <tr>\n",
       "      <th>3</th>\n",
       "      <td>417</td>\n",
       "      <td>00096972-5f6b-44df-917b-f7d21ae5644c</td>\n",
       "      <td>33.0</td>\n",
       "      <td>416</td>\n",
       "      <td>0</td>\n",
       "    </tr>\n",
       "    <tr>\n",
       "      <th>4</th>\n",
       "      <td>729</td>\n",
       "      <td>00096972-5f6b-44df-917b-f7d21ae5644c</td>\n",
       "      <td>65.0</td>\n",
       "      <td>728</td>\n",
       "      <td>0</td>\n",
       "    </tr>\n",
       "    <tr>\n",
       "      <th>...</th>\n",
       "      <td>...</td>\n",
       "      <td>...</td>\n",
       "      <td>...</td>\n",
       "      <td>...</td>\n",
       "      <td>...</td>\n",
       "    </tr>\n",
       "    <tr>\n",
       "      <th>13575</th>\n",
       "      <td>146</td>\n",
       "      <td>ffdb2dc7-ea75-4197-9826-e81ccd42f578</td>\n",
       "      <td>99.0</td>\n",
       "      <td>145</td>\n",
       "      <td>2425</td>\n",
       "    </tr>\n",
       "    <tr>\n",
       "      <th>13576</th>\n",
       "      <td>289</td>\n",
       "      <td>ffdb2dc7-ea75-4197-9826-e81ccd42f578</td>\n",
       "      <td>34.0</td>\n",
       "      <td>288</td>\n",
       "      <td>2425</td>\n",
       "    </tr>\n",
       "    <tr>\n",
       "      <th>13577</th>\n",
       "      <td>371</td>\n",
       "      <td>ffdb2dc7-ea75-4197-9826-e81ccd42f578</td>\n",
       "      <td>64.0</td>\n",
       "      <td>370</td>\n",
       "      <td>2425</td>\n",
       "    </tr>\n",
       "    <tr>\n",
       "      <th>13578</th>\n",
       "      <td>414</td>\n",
       "      <td>ffdb2dc7-ea75-4197-9826-e81ccd42f578</td>\n",
       "      <td>12.0</td>\n",
       "      <td>413</td>\n",
       "      <td>2425</td>\n",
       "    </tr>\n",
       "    <tr>\n",
       "      <th>13579</th>\n",
       "      <td>674</td>\n",
       "      <td>ffdb2dc7-ea75-4197-9826-e81ccd42f578</td>\n",
       "      <td>37.0</td>\n",
       "      <td>673</td>\n",
       "      <td>2425</td>\n",
       "    </tr>\n",
       "  </tbody>\n",
       "</table>\n",
       "<p>13580 rows × 5 columns</p>\n",
       "</div>"
      ],
      "text/plain": [
       "      USER_ID                               ITEM_ID  CONFIDENCE  USER_IDX  \\\n",
       "0          33  00096972-5f6b-44df-917b-f7d21ae5644c        48.0        32   \n",
       "1         239  00096972-5f6b-44df-917b-f7d21ae5644c        50.0       238   \n",
       "2         379  00096972-5f6b-44df-917b-f7d21ae5644c        16.0       378   \n",
       "3         417  00096972-5f6b-44df-917b-f7d21ae5644c        33.0       416   \n",
       "4         729  00096972-5f6b-44df-917b-f7d21ae5644c        65.0       728   \n",
       "...       ...                                   ...         ...       ...   \n",
       "13575     146  ffdb2dc7-ea75-4197-9826-e81ccd42f578        99.0       145   \n",
       "13576     289  ffdb2dc7-ea75-4197-9826-e81ccd42f578        34.0       288   \n",
       "13577     371  ffdb2dc7-ea75-4197-9826-e81ccd42f578        64.0       370   \n",
       "13578     414  ffdb2dc7-ea75-4197-9826-e81ccd42f578        12.0       413   \n",
       "13579     674  ffdb2dc7-ea75-4197-9826-e81ccd42f578        37.0       673   \n",
       "\n",
       "       ITEM_IDX  \n",
       "0             0  \n",
       "1             0  \n",
       "2             0  \n",
       "3             0  \n",
       "4             0  \n",
       "...         ...  \n",
       "13575      2425  \n",
       "13576      2425  \n",
       "13577      2425  \n",
       "13578      2425  \n",
       "13579      2425  \n",
       "\n",
       "[13580 rows x 5 columns]"
      ]
     },
     "execution_count": 153,
     "metadata": {},
     "output_type": "execute_result"
    }
   ],
   "source": [
    "import pandas as pd\n",
    "from scipy import sparse\n",
    "import implicit\n",
    "from sklearn.preprocessing import MinMaxScaler\n",
    "\n",
    "df = pd.read_csv(\"interactions.csv\")\n",
    "df_items = pd.read_csv(\"items.csv\")\n",
    "\n",
    "# drop columns which we don't need\n",
    "df = df.drop([\"TIMESTAMP\", \"DISCOUNT\"], axis=1)\n",
    "\n",
    "# add confidence scores\n",
    "event_type_confidence = {\n",
    "   \"View\": 1.0,\n",
    "   \"AddToCart\": 2.0, \n",
    "   \"ViewCart\": 3.0, \n",
    "   \"StartCheckout\": 4.0,\n",
    "   \"Purchase\": 5.0,  \n",
    "}\n",
    "\n",
    "df[\"CONFIDENCE\"] = df[\"EVENT_TYPE\"].apply(lambda x: event_type_confidence[x])\n",
    "# 90,000 interactions\n",
    "# print(df)\n",
    "\n",
    "# this removes duplicates and adds up the confidence => down to 26K unique user-item interactions + confidence\n",
    "grouped_df = df.groupby([\"ITEM_ID\", \"USER_ID\"]).sum(\"CONFIDENCE\").reset_index()\n",
    "grouped_df = grouped_df[[\"USER_ID\", \"ITEM_ID\", \"CONFIDENCE\"]] # re-order columns\n",
    "# print(grouped_df)\n",
    "\n",
    "# train\n",
    "grouped_df[\"USER_ID\"] = grouped_df[\"USER_ID\"].astype(\"category\")\n",
    "grouped_df[\"ITEM_ID\"] = grouped_df[\"ITEM_ID\"].astype(\"category\")\n",
    "print(f\"Number of unique users: {grouped_df['USER_ID'].nunique()}\")\n",
    "print(f\"Number of unique items: {grouped_df.ITEM_ID.nunique()}\")\n",
    "grouped_df[\"USER_IDX\"] = grouped_df[\"USER_ID\"].cat.codes\n",
    "grouped_df[\"ITEM_IDX\"] = grouped_df[\"ITEM_ID\"].cat.codes\n",
    "print(f\"Min value user index: {grouped_df['USER_IDX'].min()}\")\n",
    "print(f\"Max value user index: {grouped_df['USER_IDX'].max()}\")\n",
    "print(f\"Min value item index: {grouped_df['ITEM_IDX'].min()}\")\n",
    "print(f\"Max value item index: {grouped_df['ITEM_IDX'].max()}\")\n",
    "# print(grouped_df)\n",
    "\n",
    "# Find items purchased by a given user\n",
    "# try_user = 168\n",
    "# try_result = grouped_df[grouped_df.USER_ID == try_user]\n",
    "# print(\"Try result:\")\n",
    "# print(try_result)\n",
    "\n",
    "sparse_person_content = sparse.csr_matrix((grouped_df[\"CONFIDENCE\"].astype(float), (grouped_df[\"USER_IDX\"], grouped_df[\"ITEM_IDX\"])))\n",
    "sparse_person_content\n",
    "grouped_df"
   ]
  },
  {
   "cell_type": "code",
   "execution_count": 154,
   "metadata": {},
   "outputs": [
    {
     "name": "stdout",
     "output_type": "stream",
     "text": [
      "Number of samples: 2716\n",
      "Length nonzero pairs: 13580\n",
      "Length samples: 2716\n",
      "user-item masked samples: [(718, 402), (124, 450), (27, 1795), (832, 723), (307, 1846), (273, 870), (249, 381), (155, 2209), (826, 1110), (114, 1245)]\n",
      "Length user index samples: 2716\n",
      "Length item index samples: 2716\n"
     ]
    }
   ],
   "source": [
    "import random\n",
    "import numpy as np\n",
    "\n",
    "def make_train_test(sparse_matrix, pct_test=0.2):\n",
    "  test_set = sparse_matrix.copy()  # Make a copy of the original set to be the test set.\n",
    "  # test_set[test_set != 0] = 1  # Store the test set as a binary preference matrix\n",
    "  training_set = (\n",
    "      sparse_matrix.copy()\n",
    "  )  # Make a copy of the original data we can alter as our training set.\n",
    "  nonzero_inds = (\n",
    "      training_set.nonzero()\n",
    "  )  # Find the indices in the ratings data where an interaction exists\n",
    "  nonzero_pairs = list(\n",
    "      zip(nonzero_inds[0], nonzero_inds[1])\n",
    "  )  # Zip these pairs together of user,item index into list\n",
    "  random.seed(42)  # Set the random seed to zero for reproducibility\n",
    "  num_samples = int(\n",
    "      np.ceil(pct_test * len(nonzero_pairs))\n",
    "  )  # Round the number of samples needed to the nearest integer\n",
    "  print(f\"Number of samples: {num_samples}\")\n",
    "  samples = random.sample(\n",
    "      nonzero_pairs, num_samples\n",
    "  )  # Sample a random number of user-item pairs without replacement\n",
    "  print(f\"Length nonzero pairs: {len(nonzero_pairs)}\")\n",
    "  print(f\"Length samples: {len(samples)}\")\n",
    "  print(f\"user-item masked samples: {samples[0:10]}\" )\n",
    "  user_inds = [index[0] for index in samples]  # Get the user row indices\n",
    "  item_inds = [index[1] for index in samples]  # Get the item column indices\n",
    "  print(f\"Length user index samples: {len(user_inds)}\")\n",
    "  print(f\"Length item index samples: {len(item_inds)}\")\n",
    "  training_set[\n",
    "      user_inds, item_inds\n",
    "  ] = 0  # Assign all of the randomly chosen user-item pairs to zero\n",
    "  training_set.eliminate_zeros()  # Get rid of zeros in sparse array storage after update to save space\n",
    "  return (\n",
    "      training_set,\n",
    "      test_set,\n",
    "      list(set(user_inds)),\n",
    "  )  # Output the unique list of user rows that were altered\n",
    "  \n",
    "training_set, test_set, product_users_altered =  make_train_test(sparse_person_content, pct_test=0.2)"
   ]
  },
  {
   "cell_type": "code",
   "execution_count": 155,
   "metadata": {},
   "outputs": [],
   "source": [
    "alpha = 15\n",
    "model = implicit.als.AlternatingLeastSquares(alpha=alpha, factors=20, regularization=0.1, iterations=50)\n",
    "user_vecs = grouped_df[\"USER_IDX\"]\n",
    "item_vecs = grouped_df[\"ITEM_IDX\"]\n",
    "\n",
    "data = (training_set).astype('double')"
   ]
  },
  {
   "cell_type": "code",
   "execution_count": 170,
   "metadata": {},
   "outputs": [
    {
     "name": "stdout",
     "output_type": "stream",
     "text": [
      "(1000, 2426)\n"
     ]
    },
    {
     "data": {
      "text/plain": [
       "99.55218466611706"
      ]
     },
     "execution_count": 170,
     "metadata": {},
     "output_type": "execute_result"
    }
   ],
   "source": [
    "# calculate the sparsity of our sparse matrix\n",
    "print(training_set.shape)\n",
    "matrix_size = training_set.shape[0]*training_set.shape[1] # Number of possible interactions in the matrix\n",
    "num_confidence_interactions = len(training_set.nonzero()[0]) # Number of items interacted with\n",
    "sparsity = 100*(1 - (num_confidence_interactions/matrix_size))\n",
    "sparsity"
   ]
  },
  {
   "cell_type": "code",
   "execution_count": 171,
   "metadata": {
    "colab": {
     "base_uri": "https://localhost:8080/",
     "height": 49,
     "referenced_widgets": [
      "a25702ebf95349e896430588b47f661b",
      "dc248596a0144339aeec7d17914b1c4d",
      "fd55b2972dfc4081aa358de5b02cb36e",
      "30d1b702fdd741edae7a1f11eff24d97",
      "30847d2895d64d4bae08cac27fd12af1",
      "e1aeabfbd9964949a95f62b27ee83aee",
      "8c7a664879704f15810b79ecf0a07f15",
      "64fba2e3940a4cdc9d753239e5dcbe47",
      "79dcc82d6acd4773bc0d93e8c7ea0547",
      "4ccf88b866d24a83b4969a5241cbf2d1",
      "02620e00a2854b28a3a9578e858247de"
     ]
    },
    "executionInfo": {
     "elapsed": 23192,
     "status": "ok",
     "timestamp": 1683460080511,
     "user": {
      "displayName": "Jose Reyes",
      "userId": "00968139453480770759"
     },
     "user_tz": -600
    },
    "id": "r4YyAjO69FI2",
    "outputId": "cb946970-aced-40db-c873-b3c721ba2bf0"
   },
   "outputs": [
    {
     "data": {
      "application/vnd.jupyter.widget-view+json": {
       "model_id": "71f9ae2d4018433895d46603de023dee",
       "version_major": 2,
       "version_minor": 0
      },
      "text/plain": [
       "  0%|          | 0/50 [00:00<?, ?it/s]"
      ]
     },
     "metadata": {},
     "output_type": "display_data"
    }
   ],
   "source": [
    "model.fit(data)"
   ]
  },
  {
   "cell_type": "code",
   "execution_count": 172,
   "metadata": {},
   "outputs": [
    {
     "name": "stdout",
     "output_type": "stream",
     "text": [
      "Item ID: 0de9bba0-1149-40e9-b1a6-7dcecaf68194, Desc: Thick and fine smoothy, satisfying and healthy\n",
      "Item ID: 5afced84-ed2d-4520-a06d-dcfeab382e52, Desc: Made with ginseng and joy\n",
      "Item ID: aff05423-76e8-4339-a478-fc17d51ed985, Desc: 16oz fountain soda always hits the spot\n",
      "Item ID: 0790267c-c708-424d-81f5-46903a9c8444, Desc: Slice of delicious pepperoni pizza\n",
      "Item ID: 31eef6b5-781e-4353-a851-d73ff9c22f9a, Desc: Learn to cook Chinese cuisine with these easy recipes\n",
      "Item ID: 53ce7597-bb59-45e0-a3a3-ca3ef6f7ce1c, Desc: Plan your next trip with this essential reference book on France\n",
      "Item ID: ec02b332-05a5-40dd-ae9d-2b0672baaa6e, Desc: Plan your next trip with this essential reference book on Japan\n",
      "Item ID: 62206a61-b821-47ea-be0c-c4fbf57e091e, Desc: Plan your next trip with this essential reference book on Mexico\n",
      "Item ID: 9c1a2048-7aac-4565-b836-d8d4f726322c, Desc: Crunchy and yummy! Crumbs in your lap!\n",
      "Item ID: 4adabef5-293b-42c0-b6d1-1cf853f6391d, Desc: Plan your next trip with this essential reference book on China\n",
      "Item ID: 5e1679f5-2a52-44be-8453-760bf61d43b4, Desc: Learn to cook French cuisine with these easy recipes\n",
      "Item ID: 6cc0deb8-4a56-4148-a2ab-677277522c80, Desc: Meet your daily intake of yum\n",
      "Item ID: 2a372402-5ea1-42cb-b374-0f6c10200fcc, Desc: Plan your next trip with this essential reference book on Greece\n",
      "Item ID: d78a318a-ca96-4bb3-9f9f-90847b105f2a, Desc: A must-have in every bathroom\n",
      "Item ID: b87da3f8-9a3e-417d-abd7-16329c5be1ba, Desc: Enjoy the fragrance of this luxurious soap\n",
      "Item ID: 7a619c82-a5da-4bc9-b6e6-64e93c51fb55, Desc: You won't be able to stop eating them and you will have to come back for more.\n",
      "Item ID: e1146e90-3274-4ad6-a6a2-0170f0f8d597, Desc: A delightful blend of Californian and Oriental almonds\n",
      "Item ID: ef2bc846-fed1-4d6b-a9bb-e50c6961f254, Desc: Plan your next trip with this essential reference book on Kenya\n",
      "Item ID: 4f13bb6a-20f0-4067-a33d-6585b3cd26f2, Desc: Learn to cook Chinese cuisine with these easy recipes\n",
      "Item ID: 5fd9f9b7-e6e4-468d-93b8-fa984f66cde3, Desc: Learn to cook Turkish cuisine with these easy recipes\n",
      "Item ID: 4496471c-b098-4915-9a1a-8b9e60043737, Desc: The taste of summer and energy\n",
      "Item ID: 84ab276d-9713-409f-861e-35502d6dc64a, Desc: Plan your next trip with this essential reference book on China\n",
      "Item ID: 25d7bbf6-7dd3-4912-93a7-4186ea417b54, Desc: Full of omega oils and taste\n",
      "Item ID: 24c62ad2-6977-4f69-be75-e37d897c1434, Desc: Warms you to your bowels and delivers vitamins to your organs\n",
      "Item ID: f99e3fe4-6d50-470b-9925-6801020b262a, Desc: Razor for every bathroom\n",
      "Item ID: b55e794f-1137-4de2-bcea-806041e080e6, Desc: Plan your next trip with this essential reference book on China\n",
      "Item ID: fe96a096-a0b6-4b20-a332-e11db6c0c7b0, Desc: Soft towel for the spa\n",
      "Item ID: 9e663074-853f-45a4-a950-9419eaff5531, Desc: Learn to cook Spanish cuisine with these easy recipes\n",
      "Item ID: 9cc46ed9-287c-4ce8-bdb5-8e1fed177dd5, Desc: Learn to cook Italian cuisine with these easy recipes\n",
      "Item ID: c04c5c8e-d946-402a-a751-a3d33c124ccc, Desc: Learn to cook Indonesian cuisine with these easy recipes\n",
      "Item ID: 36e1f150-3d83-4d3c-9855-8daf858d8e28, Desc: A must-have in every bathroom\n",
      "Item ID: 641f3960-72a7-4e2b-be69-8a7539eb50bb, Desc: Keep a bottle of this product in your bathroom\n",
      "Item ID: 5d37a44b-d121-426e-b528-59e603ba5923, Desc: Plan your next trip with this essential reference book on Egypt\n",
      "Item ID: fd34b35b-de76-496e-89f1-6ef65969e1a4, Desc: Plan your next trip with this essential reference book on Mexico\n",
      "Item ID: 460afbac-6cc5-4c84-b0a2-ddce67286e37, Desc: Learn to cook Thai cuisine with these easy recipes\n",
      "Item ID: a7aeba8c-1feb-4f9c-94d8-031612c55fb8, Desc: Plan your next trip with this essential reference book on Russia\n",
      "Item ID: 4f9e1247-5342-4a79-ae6d-e53d083840a8, Desc: Plan your next trip with this essential reference book on Britain\n",
      "Item ID: 647094ec-04d2-438b-a36f-2942945a6dc0, Desc: This rich soap is a must-have in your bathroom\n",
      "Item ID: 59b0aeff-c1cc-4d7c-b928-dec5457942e0, Desc: A must-have in every bathroom\n",
      "Item ID: e093925f-ea8c-4409-a00f-3d725cc463fb, Desc: Learn to cook Swedish cuisine with these easy recipes\n",
      "Item ID: 47707417-48c4-4faa-84ee-a06414d29e46, Desc: Plan your next trip with this essential reference book on Spain\n",
      "Item ID: 0987bfa1-0a23-4b90-8882-8a6e9bd91e24, Desc: Juicy prawns with spicy sauce and rice\n",
      "Item ID: 575c0ac0-5494-4c64-a886-a9c0cf8b779a, Desc: Lentils with potatos, carrots and spices; a joy to your palate and super healthy\n",
      "Item ID: 1dddc877-52ac-480c-b786-2dbd2be70c04, Desc: Plan your next trip with this essential reference book on Iceland\n",
      "Item ID: b20ba076-58a7-4602-9b56-4bee46e98388, Desc: The best nachos north of Mexico\n",
      "Item ID: b2f9ea63-f7d4-4944-84ce-208164326c8e, Desc: Brush your teeth after each meal with this handy toothbrush\n",
      "Item ID: 6dc07033-24b9-4467-bd32-31a2e9ccb404, Desc: Dandyish bracelet for men\n",
      "Item ID: b740e07e-f890-4ace-8c97-4dc4cf1d173b, Desc: Learn to cook French cuisine with these easy recipes\n",
      "Item ID: 5c7c00f5-37fa-4fab-95f8-f6982401f762, Desc: Plan your next trip with this essential reference book on Sweden\n",
      "Item ID: 5449ebf6-1579-4fdc-8e02-7f631d2cdfbd, Desc: Soft toothbrush for everyday use\n"
     ]
    },
    {
     "data": {
      "text/plain": [
       "[124,\n",
       " 872,\n",
       " 1682,\n",
       " 69,\n",
       " 461,\n",
       " 783,\n",
       " 2249,\n",
       " 939,\n",
       " 1508,\n",
       " 708,\n",
       " 908,\n",
       " 1046,\n",
       " 387,\n",
       " 2061,\n",
       " 1766,\n",
       " 1176,\n",
       " 2139,\n",
       " 2273,\n",
       " 746,\n",
       " 919,\n",
       " 630,\n",
       " 1272,\n",
       " 350,\n",
       " 342,\n",
       " 2375,\n",
       " 1738,\n",
       " 2415,\n",
       " 1522,\n",
       " 1510,\n",
       " 1840,\n",
       " 513,\n",
       " 964,\n",
       " 895,\n",
       " 2398,\n",
       " 643,\n",
       " 1613,\n",
       " 751,\n",
       " 969,\n",
       " 859,\n",
       " 2133,\n",
       " 666,\n",
       " 86,\n",
       " 831,\n",
       " 274,\n",
       " 1699,\n",
       " 1708,\n",
       " 1062,\n",
       " 1751,\n",
       " 886,\n",
       " 791]"
      ]
     },
     "execution_count": 172,
     "metadata": {},
     "output_type": "execute_result"
    }
   ],
   "source": [
    "# Get popular items (to use as baseline)\n",
    "popular_items = grouped_df.ITEM_ID.value_counts(sort=True).keys()[:50]\n",
    "top_ten_popular_items = []\n",
    "for item in popular_items:\n",
    "    item_desc = df_items.PRODUCT_DESCRIPTION.loc[df_items.ITEM_ID == item].iloc[0]\n",
    "    item_index = grouped_df.ITEM_IDX.loc[grouped_df.ITEM_ID == item].iloc[0]\n",
    "    print(f\"Item ID: {item}, Desc: {item_desc}\")\n",
    "    top_ten_popular_items.append(item_index)\n",
    "top_ten_popular_items\n",
    "    \n"
   ]
  },
  {
   "cell_type": "code",
   "execution_count": 194,
   "metadata": {},
   "outputs": [
    {
     "name": "stdout",
     "output_type": "stream",
     "text": [
      "(array([1922,  253, 1631, 1844,   47, 1134, 2309, 1326, 1406,  768, 1061,\n",
      "       1151,  186, 1123, 1952, 1485, 1948, 2120,  163, 1130], dtype=int32), array([0.85376114, 0.76218545, 0.7443303 , 0.74205965, 0.73244005,\n",
      "       0.72602624, 0.7238099 , 0.71864474, 0.6823832 , 0.6812058 ,\n",
      "       0.67385745, 0.6716193 , 0.6557997 , 0.6528224 , 0.65126425,\n",
      "       0.64499354, 0.6444813 , 0.6408257 , 0.6395861 , 0.63956565],\n",
      "      dtype=float32))\n",
      "User idx: 155\n",
      "           c8956c20-9214-4e38-9398-26e8d05b4924,           0.8537611365318298,           This gray set cushion is a must-have for your house\n",
      "           1bb74d0b-fe39-42f0-9870-d4195a90a32c,           0.7621854543685913,           Unsurpassed beige chair for your office\n",
      "           aa5be513-89e8-4518-aba0-a40c8544adbc,           0.7443302869796753,           A must-have for your kitchen\n",
      "           c0966977-5b71-4f5e-92c7-04a86dbd7d71,           0.7420596480369568,           This wall clock is a must-have\n",
      "           05948514-25d3-49a7-ade2-0368a9b1d525,           0.7324400544166565,           This table lamp will enhance your home\n",
      "           7684731e-eca7-4679-8425-ba8ffe0aa057,           0.7260262370109558,           Unparalleled for every kitchen\n",
      "           f31e0276-66fd-463b-9dbf-fd7a35e6a109,           0.7238098978996277,           These socks are very comfy for the office\n",
      "           8b3b6f83-157b-413e-9205-2f459f2df378,           0.7186447381973267,           This wiker basket is a must-have for your home decor\n",
      "           91d0333b-76ec-4271-901a-6bb79cd9f12b,           0.6823831796646118,           This floor lamp will enhance your home\n",
      "           517a7fc1-0db5-440f-b6b8-b5577340716f,           0.6812058091163635,           This table clock will keep you on time\n",
      "           6d9e6bd1-3e50-4311-bd58-7913dcdbce43,           0.6738574504852295,           This wiker basket is a must-have for your home decor\n",
      "           78080d05-b078-441f-b245-54b2a2dec872,           0.6716192960739136,           Sophisticated ceramic bowl for every occasion\n",
      "           142a8efe-18c3-4938-9978-cc8d83e8b02e,           0.6557996869087219,           This glass vase will delight everyone\n",
      "           75917ca3-d96d-49c9-b99a-60baac872b7a,           0.6528223752975464,           Supercool rosy-brown coffee table to enliven your day\n",
      "           cc5005d0-1a9e-48f1-9c79-14096b1d8c29,           0.6512642502784729,           This glass vase is a must-have for your home decor\n",
      "           99cb19d7-68cf-49d3-9d44-360e2099fe99,           0.6449935436248779,           This glass vase will delight everyone\n",
      "           cc09417b-a314-4752-9790-dd789d2d24f4,           0.6444813013076782,           Stylish ceramic bowl for every occasion\n",
      "           df8e287c-867b-4b4d-bf27-e3055afa2a16,           0.6408256888389587,           Increase your productivity with this unsurpassed dark khaki worktable\n",
      "           123e7f5e-c5aa-45f0-94c3-1df8b018f004,           0.6395860910415649,           This decorative candle is a must-have for the lighting of your home\n",
      "           76179541-8214-4940-bfa8-6d93739ba436,           0.639565646648407,           This rattan basket will delight everyone\n"
     ]
    }
   ],
   "source": [
    "num_recomm = 20\n",
    "user_idx = 155 # try these user-item indices [(718, 402), (124, 450), (27, 1795), (832, 723), (307, 1846), (273, 870), (249, 381), (155, 2209), (826, 1110), (114, 1245)]\n",
    "train = model.recommend(user_idx, training_set[user_idx], N=num_recomm)\n",
    "train_set_predictions = train[0][:num_recomm] # these are the top x0 preditictions using the train set\n",
    "\n",
    "print(train)\n",
    "\n",
    "print(f\"User idx: {user_idx}\")\n",
    "for idx in range(0, num_recomm):\n",
    "    item_id = grouped_df.ITEM_ID.loc[grouped_df.ITEM_IDX == train[0][idx]].iloc[0]\n",
    "    item_desc = df_items.PRODUCT_DESCRIPTION.loc[df_items.ITEM_ID == item_id].iloc[0]\n",
    "    print(f\" \\\n",
    "          {item_id}, \\\n",
    "          {train[1][idx]}, \\\n",
    "          {item_desc}\")\n",
    "    \n"
   ]
  },
  {
   "cell_type": "code",
   "execution_count": 185,
   "metadata": {},
   "outputs": [
    {
     "data": {
      "application/vnd.jupyter.widget-view+json": {
       "model_id": "5381438c3310414ab9270286f5e82fb8",
       "version_major": 2,
       "version_minor": 0
      },
      "text/plain": [
       "  0%|          | 0/50 [00:00<?, ?it/s]"
      ]
     },
     "metadata": {},
     "output_type": "display_data"
    }
   ],
   "source": [
    "# try the test set\n",
    "data = (training_set).astype('double')\n",
    "model.fit(data)"
   ]
  },
  {
   "cell_type": "code",
   "execution_count": 195,
   "metadata": {},
   "outputs": [
    {
     "name": "stdout",
     "output_type": "stream",
     "text": [
      "(array([1922, 1631, 1844,   47, 1134, 2309, 1326, 1406,  768, 1061, 1151,\n",
      "        186, 1123, 1952, 1485, 1948, 2120,  163, 1130, 1814], dtype=int32), array([0.85376114, 0.7443303 , 0.74205965, 0.73244005, 0.72602624,\n",
      "       0.7238099 , 0.71864474, 0.6823832 , 0.6812058 , 0.67385745,\n",
      "       0.6716193 , 0.6557997 , 0.6528224 , 0.65126425, 0.64499354,\n",
      "       0.6444813 , 0.6408257 , 0.6395861 , 0.63956565, 0.6343557 ],\n",
      "      dtype=float32))\n",
      "User idx: 155\n",
      "           c8956c20-9214-4e38-9398-26e8d05b4924,           0.8537611365318298,           This gray set cushion is a must-have for your house\n",
      "           aa5be513-89e8-4518-aba0-a40c8544adbc,           0.7443302869796753,           A must-have for your kitchen\n",
      "           c0966977-5b71-4f5e-92c7-04a86dbd7d71,           0.7420596480369568,           This wall clock is a must-have\n",
      "           05948514-25d3-49a7-ade2-0368a9b1d525,           0.7324400544166565,           This table lamp will enhance your home\n",
      "           7684731e-eca7-4679-8425-ba8ffe0aa057,           0.7260262370109558,           Unparalleled for every kitchen\n",
      "           f31e0276-66fd-463b-9dbf-fd7a35e6a109,           0.7238098978996277,           These socks are very comfy for the office\n",
      "           8b3b6f83-157b-413e-9205-2f459f2df378,           0.7186447381973267,           This wiker basket is a must-have for your home decor\n",
      "           91d0333b-76ec-4271-901a-6bb79cd9f12b,           0.6823831796646118,           This floor lamp will enhance your home\n",
      "           517a7fc1-0db5-440f-b6b8-b5577340716f,           0.6812058091163635,           This table clock will keep you on time\n",
      "           6d9e6bd1-3e50-4311-bd58-7913dcdbce43,           0.6738574504852295,           This wiker basket is a must-have for your home decor\n",
      "           78080d05-b078-441f-b245-54b2a2dec872,           0.6716192960739136,           Sophisticated ceramic bowl for every occasion\n",
      "           142a8efe-18c3-4938-9978-cc8d83e8b02e,           0.6557996869087219,           This glass vase will delight everyone\n",
      "           75917ca3-d96d-49c9-b99a-60baac872b7a,           0.6528223752975464,           Supercool rosy-brown coffee table to enliven your day\n",
      "           cc5005d0-1a9e-48f1-9c79-14096b1d8c29,           0.6512642502784729,           This glass vase is a must-have for your home decor\n",
      "           99cb19d7-68cf-49d3-9d44-360e2099fe99,           0.6449935436248779,           This glass vase will delight everyone\n",
      "           cc09417b-a314-4752-9790-dd789d2d24f4,           0.6444813013076782,           Stylish ceramic bowl for every occasion\n",
      "           df8e287c-867b-4b4d-bf27-e3055afa2a16,           0.6408256888389587,           Increase your productivity with this unsurpassed dark khaki worktable\n",
      "           123e7f5e-c5aa-45f0-94c3-1df8b018f004,           0.6395860910415649,           This decorative candle is a must-have for the lighting of your home\n",
      "           76179541-8214-4940-bfa8-6d93739ba436,           0.639565646648407,           This rattan basket will delight everyone\n",
      "           bd27ce34-9109-40ef-a88c-e2caebc88f4a,           0.6343557238578796,           Nice dressy socks\n"
     ]
    }
   ],
   "source": [
    "# try user-item held out in the training set\n",
    "user_idx = 155 # try these user-item indices [(718, 402), (124, 450), (27, 1795), (832, 723), (307, 1846), (273, 870), (249, 381), (155, 2209), (826, 1110), (114, 1245)]\n",
    "test = model.recommend(user_idx, test_set[user_idx], N=num_recomm)\n",
    "test_set_predictions = test[0][:num_recomm] # these are the top x0 preditictions using the test set\n",
    "\n",
    "print(test)\n",
    "\n",
    "print(f\"User idx: {user_idx}\")\n",
    "for idx in range(0, num_recomm):\n",
    "    item_id = grouped_df.ITEM_ID.loc[grouped_df.ITEM_IDX == test[0][idx]].iloc[0]\n",
    "    item_desc = df_items.PRODUCT_DESCRIPTION.loc[df_items.ITEM_ID == item_id].iloc[0]\n",
    "    print(f\" \\\n",
    "          {item_id}, \\\n",
    "          {test[1][idx]}, \\\n",
    "          {item_desc}\")\n",
    "    \n",
    "\n"
   ]
  },
  {
   "cell_type": "code",
   "execution_count": 196,
   "metadata": {},
   "outputs": [
    {
     "name": "stdout",
     "output_type": "stream",
     "text": [
      "Average Reciprocal Hit Rank:  0.15489\n",
      "Average Reciprocal Hit Rank (Popular Items):  0.0\n"
     ]
    }
   ],
   "source": [
    "def AverageReciprocalHitRank(train_set_predictions, test_set_predictions):\n",
    "    '''\n",
    "    Calcluate the Average Reciprocal Hit Rank \n",
    "    by comparing the top 20 predictions from both the\n",
    "    training set and the test set. The training set contains the\n",
    "    masked out items using function make_train_test\n",
    "    '''\n",
    "    summation = 0\n",
    "    total = 0\n",
    "    # For each left-out rating\n",
    "    for test_set_item_id in test_set_predictions:\n",
    "        # Is it in the predicted top N for this user?\n",
    "        hitRank = 0\n",
    "        rank = 0\n",
    "        for train_set_item_id in train_set_predictions:\n",
    "            rank = rank + 1\n",
    "            if (test_set_item_id == train_set_item_id):\n",
    "                hitRank = rank\n",
    "                break\n",
    "        if (hitRank > 0) :\n",
    "                summation += 1.0 / hitRank\n",
    "\n",
    "        total += 1\n",
    "\n",
    "    return round(summation / total, 5)\n",
    "\n",
    "print(\"Average Reciprocal Hit Rank: \", AverageReciprocalHitRank(train_set_predictions, test_set_predictions))\n",
    "\n",
    "print(\"Average Reciprocal Hit Rank (Popular Items): \", AverageReciprocalHitRank(train_set_predictions, top_ten_popular_items))\n"
   ]
  },
  {
   "cell_type": "code",
   "execution_count": 1,
   "metadata": {
    "id": "MkyxqzmnnygV"
   },
   "outputs": [],
   "source": [
    "# https://nbviewer.org/github/jmsteinw/Notebooks/blob/master/RecEngine_NB.ipynb\n",
    "# This notebook shows awesome extensive process for implicit feedback systems. "
   ]
  },
  {
   "cell_type": "code",
   "execution_count": 10,
   "metadata": {},
   "outputs": [
    {
     "name": "stdout",
     "output_type": "stream",
     "text": [
      "Collecting rank-eval\n",
      "  Downloading rank_eval-0.1.3-py3-none-any.whl (17 kB)\n",
      "Requirement already satisfied: tabulate in /Users/josereyes/anaconda3/lib/python3.10/site-packages (from rank-eval) (0.8.10)\n",
      "Requirement already satisfied: pandas in /Users/josereyes/anaconda3/lib/python3.10/site-packages (from rank-eval) (1.5.3)\n",
      "Requirement already satisfied: numpy in /Users/josereyes/anaconda3/lib/python3.10/site-packages (from rank-eval) (1.23.5)\n",
      "Requirement already satisfied: tqdm in /Users/josereyes/anaconda3/lib/python3.10/site-packages (from rank-eval) (4.64.1)\n",
      "Requirement already satisfied: numba>=0.54.1 in /Users/josereyes/anaconda3/lib/python3.10/site-packages (from rank-eval) (0.56.4)\n",
      "Requirement already satisfied: llvmlite<0.40,>=0.39.0dev0 in /Users/josereyes/anaconda3/lib/python3.10/site-packages (from numba>=0.54.1->rank-eval) (0.39.1)\n",
      "Requirement already satisfied: setuptools in /Users/josereyes/anaconda3/lib/python3.10/site-packages (from numba>=0.54.1->rank-eval) (65.6.3)\n",
      "Requirement already satisfied: python-dateutil>=2.8.1 in /Users/josereyes/anaconda3/lib/python3.10/site-packages (from pandas->rank-eval) (2.8.2)\n",
      "Requirement already satisfied: pytz>=2020.1 in /Users/josereyes/anaconda3/lib/python3.10/site-packages (from pandas->rank-eval) (2022.7)\n",
      "Requirement already satisfied: six>=1.5 in /Users/josereyes/anaconda3/lib/python3.10/site-packages (from python-dateutil>=2.8.1->pandas->rank-eval) (1.16.0)\n",
      "Installing collected packages: rank-eval\n",
      "Successfully installed rank-eval-0.1.3\n"
     ]
    }
   ],
   "source": [
    "! pip install rank-eval"
   ]
  },
  {
   "cell_type": "code",
   "execution_count": 15,
   "metadata": {
    "id": "pQZgcLfTnyL6"
   },
   "outputs": [
    {
     "data": {
      "text/plain": [
       "0.75"
      ]
     },
     "execution_count": 15,
     "metadata": {},
     "output_type": "execute_result"
    }
   ],
   "source": [
    "from rank_eval import Qrels, Run, evaluate\n",
    "\n",
    "qrels = Qrels()\n",
    "qrels.add_multi(\n",
    "    q_ids=[\"q_1\", \"q_2\"],\n",
    "    doc_ids=[\n",
    "        [\"doc_12\", \"doc_25\"],  # q_1 relevant documents\n",
    "        [\"doc_11\", \"doc_2\"],  # q_2 relevant documents\n",
    "    ],\n",
    "    scores=[\n",
    "        [5, 3],  # q_1 relevance judgements\n",
    "        [6, 1],  # q_2 relevance judgements\n",
    "    ],\n",
    ")\n",
    "\n",
    "run = Run()\n",
    "run.add_multi(\n",
    "    q_ids=[\"q_1\", \"q_2\"],\n",
    "    doc_ids=[\n",
    "        [\"doc_12\", \"doc_23\", \"doc_25\", \"doc_36\", \"doc_32\", \"doc_35\"],\n",
    "        [\"doc_12\", \"doc_11\", \"doc_25\", \"doc_36\", \"doc_2\",  \"doc_35\"],\n",
    "    ],\n",
    "    scores=[\n",
    "        [0.9, 0.8, 0.7, 0.6, 0.5, 0.4],\n",
    "        [0.9, 0.8, 0.7, 0.6, 0.5, 0.4],\n",
    "    ],\n",
    ")\n",
    "evaluate(qrels, run, [\"mrr\"])\n"
   ]
  },
  {
   "cell_type": "code",
   "execution_count": null,
   "metadata": {
    "id": "chH-RredilsZ"
   },
   "outputs": [],
   "source": []
  }
 ],
 "metadata": {
  "colab": {
   "authorship_tag": "ABX9TyO5ZU9QnF7mxO4sq8OSLdqA",
   "provenance": []
  },
  "kernelspec": {
   "display_name": "Python 3 (ipykernel)",
   "language": "python",
   "name": "python3"
  },
  "language_info": {
   "codemirror_mode": {
    "name": "ipython",
    "version": 3
   },
   "file_extension": ".py",
   "mimetype": "text/x-python",
   "name": "python",
   "nbconvert_exporter": "python",
   "pygments_lexer": "ipython3",
   "version": "3.10.9"
  },
  "widgets": {
   "application/vnd.jupyter.widget-state+json": {
    "02620e00a2854b28a3a9578e858247de": {
     "model_module": "@jupyter-widgets/controls",
     "model_module_version": "1.5.0",
     "model_name": "DescriptionStyleModel",
     "state": {
      "_model_module": "@jupyter-widgets/controls",
      "_model_module_version": "1.5.0",
      "_model_name": "DescriptionStyleModel",
      "_view_count": null,
      "_view_module": "@jupyter-widgets/base",
      "_view_module_version": "1.2.0",
      "_view_name": "StyleView",
      "description_width": ""
     }
    },
    "30847d2895d64d4bae08cac27fd12af1": {
     "model_module": "@jupyter-widgets/base",
     "model_module_version": "1.2.0",
     "model_name": "LayoutModel",
     "state": {
      "_model_module": "@jupyter-widgets/base",
      "_model_module_version": "1.2.0",
      "_model_name": "LayoutModel",
      "_view_count": null,
      "_view_module": "@jupyter-widgets/base",
      "_view_module_version": "1.2.0",
      "_view_name": "LayoutView",
      "align_content": null,
      "align_items": null,
      "align_self": null,
      "border": null,
      "bottom": null,
      "display": null,
      "flex": null,
      "flex_flow": null,
      "grid_area": null,
      "grid_auto_columns": null,
      "grid_auto_flow": null,
      "grid_auto_rows": null,
      "grid_column": null,
      "grid_gap": null,
      "grid_row": null,
      "grid_template_areas": null,
      "grid_template_columns": null,
      "grid_template_rows": null,
      "height": null,
      "justify_content": null,
      "justify_items": null,
      "left": null,
      "margin": null,
      "max_height": null,
      "max_width": null,
      "min_height": null,
      "min_width": null,
      "object_fit": null,
      "object_position": null,
      "order": null,
      "overflow": null,
      "overflow_x": null,
      "overflow_y": null,
      "padding": null,
      "right": null,
      "top": null,
      "visibility": null,
      "width": null
     }
    },
    "30d1b702fdd741edae7a1f11eff24d97": {
     "model_module": "@jupyter-widgets/controls",
     "model_module_version": "1.5.0",
     "model_name": "HTMLModel",
     "state": {
      "_dom_classes": [],
      "_model_module": "@jupyter-widgets/controls",
      "_model_module_version": "1.5.0",
      "_model_name": "HTMLModel",
      "_view_count": null,
      "_view_module": "@jupyter-widgets/controls",
      "_view_module_version": "1.5.0",
      "_view_name": "HTMLView",
      "description": "",
      "description_tooltip": null,
      "layout": "IPY_MODEL_4ccf88b866d24a83b4969a5241cbf2d1",
      "placeholder": "​",
      "style": "IPY_MODEL_02620e00a2854b28a3a9578e858247de",
      "value": " 50/50 [00:22&lt;00:00,  1.97it/s]"
     }
    },
    "4ccf88b866d24a83b4969a5241cbf2d1": {
     "model_module": "@jupyter-widgets/base",
     "model_module_version": "1.2.0",
     "model_name": "LayoutModel",
     "state": {
      "_model_module": "@jupyter-widgets/base",
      "_model_module_version": "1.2.0",
      "_model_name": "LayoutModel",
      "_view_count": null,
      "_view_module": "@jupyter-widgets/base",
      "_view_module_version": "1.2.0",
      "_view_name": "LayoutView",
      "align_content": null,
      "align_items": null,
      "align_self": null,
      "border": null,
      "bottom": null,
      "display": null,
      "flex": null,
      "flex_flow": null,
      "grid_area": null,
      "grid_auto_columns": null,
      "grid_auto_flow": null,
      "grid_auto_rows": null,
      "grid_column": null,
      "grid_gap": null,
      "grid_row": null,
      "grid_template_areas": null,
      "grid_template_columns": null,
      "grid_template_rows": null,
      "height": null,
      "justify_content": null,
      "justify_items": null,
      "left": null,
      "margin": null,
      "max_height": null,
      "max_width": null,
      "min_height": null,
      "min_width": null,
      "object_fit": null,
      "object_position": null,
      "order": null,
      "overflow": null,
      "overflow_x": null,
      "overflow_y": null,
      "padding": null,
      "right": null,
      "top": null,
      "visibility": null,
      "width": null
     }
    },
    "64fba2e3940a4cdc9d753239e5dcbe47": {
     "model_module": "@jupyter-widgets/base",
     "model_module_version": "1.2.0",
     "model_name": "LayoutModel",
     "state": {
      "_model_module": "@jupyter-widgets/base",
      "_model_module_version": "1.2.0",
      "_model_name": "LayoutModel",
      "_view_count": null,
      "_view_module": "@jupyter-widgets/base",
      "_view_module_version": "1.2.0",
      "_view_name": "LayoutView",
      "align_content": null,
      "align_items": null,
      "align_self": null,
      "border": null,
      "bottom": null,
      "display": null,
      "flex": null,
      "flex_flow": null,
      "grid_area": null,
      "grid_auto_columns": null,
      "grid_auto_flow": null,
      "grid_auto_rows": null,
      "grid_column": null,
      "grid_gap": null,
      "grid_row": null,
      "grid_template_areas": null,
      "grid_template_columns": null,
      "grid_template_rows": null,
      "height": null,
      "justify_content": null,
      "justify_items": null,
      "left": null,
      "margin": null,
      "max_height": null,
      "max_width": null,
      "min_height": null,
      "min_width": null,
      "object_fit": null,
      "object_position": null,
      "order": null,
      "overflow": null,
      "overflow_x": null,
      "overflow_y": null,
      "padding": null,
      "right": null,
      "top": null,
      "visibility": null,
      "width": null
     }
    },
    "79dcc82d6acd4773bc0d93e8c7ea0547": {
     "model_module": "@jupyter-widgets/controls",
     "model_module_version": "1.5.0",
     "model_name": "ProgressStyleModel",
     "state": {
      "_model_module": "@jupyter-widgets/controls",
      "_model_module_version": "1.5.0",
      "_model_name": "ProgressStyleModel",
      "_view_count": null,
      "_view_module": "@jupyter-widgets/base",
      "_view_module_version": "1.2.0",
      "_view_name": "StyleView",
      "bar_color": null,
      "description_width": ""
     }
    },
    "8c7a664879704f15810b79ecf0a07f15": {
     "model_module": "@jupyter-widgets/controls",
     "model_module_version": "1.5.0",
     "model_name": "DescriptionStyleModel",
     "state": {
      "_model_module": "@jupyter-widgets/controls",
      "_model_module_version": "1.5.0",
      "_model_name": "DescriptionStyleModel",
      "_view_count": null,
      "_view_module": "@jupyter-widgets/base",
      "_view_module_version": "1.2.0",
      "_view_name": "StyleView",
      "description_width": ""
     }
    },
    "a25702ebf95349e896430588b47f661b": {
     "model_module": "@jupyter-widgets/controls",
     "model_module_version": "1.5.0",
     "model_name": "HBoxModel",
     "state": {
      "_dom_classes": [],
      "_model_module": "@jupyter-widgets/controls",
      "_model_module_version": "1.5.0",
      "_model_name": "HBoxModel",
      "_view_count": null,
      "_view_module": "@jupyter-widgets/controls",
      "_view_module_version": "1.5.0",
      "_view_name": "HBoxView",
      "box_style": "",
      "children": [
       "IPY_MODEL_dc248596a0144339aeec7d17914b1c4d",
       "IPY_MODEL_fd55b2972dfc4081aa358de5b02cb36e",
       "IPY_MODEL_30d1b702fdd741edae7a1f11eff24d97"
      ],
      "layout": "IPY_MODEL_30847d2895d64d4bae08cac27fd12af1"
     }
    },
    "dc248596a0144339aeec7d17914b1c4d": {
     "model_module": "@jupyter-widgets/controls",
     "model_module_version": "1.5.0",
     "model_name": "HTMLModel",
     "state": {
      "_dom_classes": [],
      "_model_module": "@jupyter-widgets/controls",
      "_model_module_version": "1.5.0",
      "_model_name": "HTMLModel",
      "_view_count": null,
      "_view_module": "@jupyter-widgets/controls",
      "_view_module_version": "1.5.0",
      "_view_name": "HTMLView",
      "description": "",
      "description_tooltip": null,
      "layout": "IPY_MODEL_e1aeabfbd9964949a95f62b27ee83aee",
      "placeholder": "​",
      "style": "IPY_MODEL_8c7a664879704f15810b79ecf0a07f15",
      "value": "100%"
     }
    },
    "e1aeabfbd9964949a95f62b27ee83aee": {
     "model_module": "@jupyter-widgets/base",
     "model_module_version": "1.2.0",
     "model_name": "LayoutModel",
     "state": {
      "_model_module": "@jupyter-widgets/base",
      "_model_module_version": "1.2.0",
      "_model_name": "LayoutModel",
      "_view_count": null,
      "_view_module": "@jupyter-widgets/base",
      "_view_module_version": "1.2.0",
      "_view_name": "LayoutView",
      "align_content": null,
      "align_items": null,
      "align_self": null,
      "border": null,
      "bottom": null,
      "display": null,
      "flex": null,
      "flex_flow": null,
      "grid_area": null,
      "grid_auto_columns": null,
      "grid_auto_flow": null,
      "grid_auto_rows": null,
      "grid_column": null,
      "grid_gap": null,
      "grid_row": null,
      "grid_template_areas": null,
      "grid_template_columns": null,
      "grid_template_rows": null,
      "height": null,
      "justify_content": null,
      "justify_items": null,
      "left": null,
      "margin": null,
      "max_height": null,
      "max_width": null,
      "min_height": null,
      "min_width": null,
      "object_fit": null,
      "object_position": null,
      "order": null,
      "overflow": null,
      "overflow_x": null,
      "overflow_y": null,
      "padding": null,
      "right": null,
      "top": null,
      "visibility": null,
      "width": null
     }
    },
    "fd55b2972dfc4081aa358de5b02cb36e": {
     "model_module": "@jupyter-widgets/controls",
     "model_module_version": "1.5.0",
     "model_name": "FloatProgressModel",
     "state": {
      "_dom_classes": [],
      "_model_module": "@jupyter-widgets/controls",
      "_model_module_version": "1.5.0",
      "_model_name": "FloatProgressModel",
      "_view_count": null,
      "_view_module": "@jupyter-widgets/controls",
      "_view_module_version": "1.5.0",
      "_view_name": "ProgressView",
      "bar_style": "success",
      "description": "",
      "description_tooltip": null,
      "layout": "IPY_MODEL_64fba2e3940a4cdc9d753239e5dcbe47",
      "max": 50,
      "min": 0,
      "orientation": "horizontal",
      "style": "IPY_MODEL_79dcc82d6acd4773bc0d93e8c7ea0547",
      "value": 50
     }
    }
   }
  }
 },
 "nbformat": 4,
 "nbformat_minor": 4
}
