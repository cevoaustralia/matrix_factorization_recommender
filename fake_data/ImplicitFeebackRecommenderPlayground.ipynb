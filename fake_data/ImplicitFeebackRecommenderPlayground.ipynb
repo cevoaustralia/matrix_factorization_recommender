{
 "cells": [
  {
   "cell_type": "code",
   "execution_count": 1,
   "metadata": {
    "colab": {
     "base_uri": "https://localhost:8080/"
    },
    "executionInfo": {
     "elapsed": 8381,
     "status": "ok",
     "timestamp": 1683459973478,
     "user": {
      "displayName": "Jose Reyes",
      "userId": "00968139453480770759"
     },
     "user_tz": -600
    },
    "id": "KZorUH33sMZV",
    "outputId": "c7534a27-bbb0-4a5a-ba57-6a69ba7bb680"
   },
   "outputs": [
    {
     "name": "stdout",
     "output_type": "stream",
     "text": [
      "Requirement already satisfied: implicit in /Users/josereyes/anaconda3/lib/python3.10/site-packages (0.6.2)\n",
      "Requirement already satisfied: numpy in /Users/josereyes/anaconda3/lib/python3.10/site-packages (from implicit) (1.23.5)\n",
      "Requirement already satisfied: scipy>=0.16 in /Users/josereyes/anaconda3/lib/python3.10/site-packages (from implicit) (1.10.0)\n",
      "Requirement already satisfied: tqdm>=4.27 in /Users/josereyes/anaconda3/lib/python3.10/site-packages (from implicit) (4.64.1)\n",
      "Requirement already satisfied: ipywidgets in /Users/josereyes/anaconda3/lib/python3.10/site-packages (8.0.6)\n",
      "Requirement already satisfied: ipython>=6.1.0 in /Users/josereyes/anaconda3/lib/python3.10/site-packages (from ipywidgets) (8.10.0)\n",
      "Requirement already satisfied: jupyterlab-widgets~=3.0.7 in /Users/josereyes/anaconda3/lib/python3.10/site-packages (from ipywidgets) (3.0.7)\n",
      "Requirement already satisfied: widgetsnbextension~=4.0.7 in /Users/josereyes/anaconda3/lib/python3.10/site-packages (from ipywidgets) (4.0.7)\n",
      "Requirement already satisfied: ipykernel>=4.5.1 in /Users/josereyes/anaconda3/lib/python3.10/site-packages (from ipywidgets) (6.19.2)\n",
      "Requirement already satisfied: traitlets>=4.3.1 in /Users/josereyes/anaconda3/lib/python3.10/site-packages (from ipywidgets) (5.7.1)\n",
      "Requirement already satisfied: packaging in /Users/josereyes/anaconda3/lib/python3.10/site-packages (from ipykernel>=4.5.1->ipywidgets) (22.0)\n",
      "Requirement already satisfied: jupyter-client>=6.1.12 in /Users/josereyes/anaconda3/lib/python3.10/site-packages (from ipykernel>=4.5.1->ipywidgets) (7.3.4)\n",
      "Requirement already satisfied: debugpy>=1.0 in /Users/josereyes/anaconda3/lib/python3.10/site-packages (from ipykernel>=4.5.1->ipywidgets) (1.5.1)\n",
      "Requirement already satisfied: matplotlib-inline>=0.1 in /Users/josereyes/anaconda3/lib/python3.10/site-packages (from ipykernel>=4.5.1->ipywidgets) (0.1.6)\n",
      "Requirement already satisfied: pyzmq>=17 in /Users/josereyes/anaconda3/lib/python3.10/site-packages (from ipykernel>=4.5.1->ipywidgets) (23.2.0)\n",
      "Requirement already satisfied: comm>=0.1.1 in /Users/josereyes/anaconda3/lib/python3.10/site-packages (from ipykernel>=4.5.1->ipywidgets) (0.1.2)\n",
      "Requirement already satisfied: appnope in /Users/josereyes/anaconda3/lib/python3.10/site-packages (from ipykernel>=4.5.1->ipywidgets) (0.1.2)\n",
      "Requirement already satisfied: nest-asyncio in /Users/josereyes/anaconda3/lib/python3.10/site-packages (from ipykernel>=4.5.1->ipywidgets) (1.5.6)\n",
      "Requirement already satisfied: tornado>=6.1 in /Users/josereyes/anaconda3/lib/python3.10/site-packages (from ipykernel>=4.5.1->ipywidgets) (6.1)\n",
      "Requirement already satisfied: psutil in /Users/josereyes/anaconda3/lib/python3.10/site-packages (from ipykernel>=4.5.1->ipywidgets) (5.9.0)\n",
      "Requirement already satisfied: backcall in /Users/josereyes/anaconda3/lib/python3.10/site-packages (from ipython>=6.1.0->ipywidgets) (0.2.0)\n",
      "Requirement already satisfied: jedi>=0.16 in /Users/josereyes/anaconda3/lib/python3.10/site-packages (from ipython>=6.1.0->ipywidgets) (0.18.1)\n",
      "Requirement already satisfied: pickleshare in /Users/josereyes/anaconda3/lib/python3.10/site-packages (from ipython>=6.1.0->ipywidgets) (0.7.5)\n",
      "Requirement already satisfied: prompt-toolkit<3.1.0,>=3.0.30 in /Users/josereyes/anaconda3/lib/python3.10/site-packages (from ipython>=6.1.0->ipywidgets) (3.0.36)\n",
      "Requirement already satisfied: pexpect>4.3 in /Users/josereyes/anaconda3/lib/python3.10/site-packages (from ipython>=6.1.0->ipywidgets) (4.8.0)\n",
      "Requirement already satisfied: pygments>=2.4.0 in /Users/josereyes/anaconda3/lib/python3.10/site-packages (from ipython>=6.1.0->ipywidgets) (2.11.2)\n",
      "Requirement already satisfied: stack-data in /Users/josereyes/anaconda3/lib/python3.10/site-packages (from ipython>=6.1.0->ipywidgets) (0.2.0)\n",
      "Requirement already satisfied: decorator in /Users/josereyes/anaconda3/lib/python3.10/site-packages (from ipython>=6.1.0->ipywidgets) (5.1.1)\n",
      "Requirement already satisfied: parso<0.9.0,>=0.8.0 in /Users/josereyes/anaconda3/lib/python3.10/site-packages (from jedi>=0.16->ipython>=6.1.0->ipywidgets) (0.8.3)\n",
      "Requirement already satisfied: jupyter-core>=4.9.2 in /Users/josereyes/anaconda3/lib/python3.10/site-packages (from jupyter-client>=6.1.12->ipykernel>=4.5.1->ipywidgets) (5.2.0)\n",
      "Requirement already satisfied: python-dateutil>=2.8.2 in /Users/josereyes/anaconda3/lib/python3.10/site-packages (from jupyter-client>=6.1.12->ipykernel>=4.5.1->ipywidgets) (2.8.2)\n",
      "Requirement already satisfied: entrypoints in /Users/josereyes/anaconda3/lib/python3.10/site-packages (from jupyter-client>=6.1.12->ipykernel>=4.5.1->ipywidgets) (0.4)\n",
      "Requirement already satisfied: ptyprocess>=0.5 in /Users/josereyes/anaconda3/lib/python3.10/site-packages (from pexpect>4.3->ipython>=6.1.0->ipywidgets) (0.7.0)\n",
      "Requirement already satisfied: wcwidth in /Users/josereyes/anaconda3/lib/python3.10/site-packages (from prompt-toolkit<3.1.0,>=3.0.30->ipython>=6.1.0->ipywidgets) (0.2.5)\n",
      "Requirement already satisfied: asttokens in /Users/josereyes/anaconda3/lib/python3.10/site-packages (from stack-data->ipython>=6.1.0->ipywidgets) (2.0.5)\n",
      "Requirement already satisfied: executing in /Users/josereyes/anaconda3/lib/python3.10/site-packages (from stack-data->ipython>=6.1.0->ipywidgets) (0.8.3)\n",
      "Requirement already satisfied: pure-eval in /Users/josereyes/anaconda3/lib/python3.10/site-packages (from stack-data->ipython>=6.1.0->ipywidgets) (0.2.2)\n",
      "Requirement already satisfied: platformdirs>=2.5 in /Users/josereyes/anaconda3/lib/python3.10/site-packages (from jupyter-core>=4.9.2->jupyter-client>=6.1.12->ipykernel>=4.5.1->ipywidgets) (2.5.2)\n",
      "Requirement already satisfied: six>=1.5 in /Users/josereyes/anaconda3/lib/python3.10/site-packages (from python-dateutil>=2.8.2->jupyter-client>=6.1.12->ipykernel>=4.5.1->ipywidgets) (1.16.0)\n",
      "Requirement already satisfied: xeus-python in /Users/josereyes/anaconda3/lib/python3.10/site-packages (0.15.8)\n",
      "Requirement already satisfied: pygments<3,>=2.3.1 in /Users/josereyes/anaconda3/lib/python3.10/site-packages (from xeus-python) (2.11.2)\n",
      "Requirement already satisfied: xeus-python-shell[ipython]<0.6,>=0.5 in /Users/josereyes/anaconda3/lib/python3.10/site-packages (from xeus-python) (0.5.0)\n",
      "Requirement already satisfied: debugpy<2,>=1.1.0 in /Users/josereyes/anaconda3/lib/python3.10/site-packages (from xeus-python-shell[ipython]<0.6,>=0.5->xeus-python) (1.5.1)\n",
      "Requirement already satisfied: ipython<9,>=7.21 in /Users/josereyes/anaconda3/lib/python3.10/site-packages (from xeus-python-shell[ipython]<0.6,>=0.5->xeus-python) (8.10.0)\n",
      "Requirement already satisfied: jedi>=0.16 in /Users/josereyes/anaconda3/lib/python3.10/site-packages (from ipython<9,>=7.21->xeus-python-shell[ipython]<0.6,>=0.5->xeus-python) (0.18.1)\n",
      "Requirement already satisfied: matplotlib-inline in /Users/josereyes/anaconda3/lib/python3.10/site-packages (from ipython<9,>=7.21->xeus-python-shell[ipython]<0.6,>=0.5->xeus-python) (0.1.6)\n",
      "Requirement already satisfied: stack-data in /Users/josereyes/anaconda3/lib/python3.10/site-packages (from ipython<9,>=7.21->xeus-python-shell[ipython]<0.6,>=0.5->xeus-python) (0.2.0)\n",
      "Requirement already satisfied: pexpect>4.3 in /Users/josereyes/anaconda3/lib/python3.10/site-packages (from ipython<9,>=7.21->xeus-python-shell[ipython]<0.6,>=0.5->xeus-python) (4.8.0)\n",
      "Requirement already satisfied: backcall in /Users/josereyes/anaconda3/lib/python3.10/site-packages (from ipython<9,>=7.21->xeus-python-shell[ipython]<0.6,>=0.5->xeus-python) (0.2.0)\n",
      "Requirement already satisfied: prompt-toolkit<3.1.0,>=3.0.30 in /Users/josereyes/anaconda3/lib/python3.10/site-packages (from ipython<9,>=7.21->xeus-python-shell[ipython]<0.6,>=0.5->xeus-python) (3.0.36)\n",
      "Requirement already satisfied: traitlets>=5 in /Users/josereyes/anaconda3/lib/python3.10/site-packages (from ipython<9,>=7.21->xeus-python-shell[ipython]<0.6,>=0.5->xeus-python) (5.7.1)\n",
      "Requirement already satisfied: appnope in /Users/josereyes/anaconda3/lib/python3.10/site-packages (from ipython<9,>=7.21->xeus-python-shell[ipython]<0.6,>=0.5->xeus-python) (0.1.2)\n",
      "Requirement already satisfied: pickleshare in /Users/josereyes/anaconda3/lib/python3.10/site-packages (from ipython<9,>=7.21->xeus-python-shell[ipython]<0.6,>=0.5->xeus-python) (0.7.5)\n",
      "Requirement already satisfied: decorator in /Users/josereyes/anaconda3/lib/python3.10/site-packages (from ipython<9,>=7.21->xeus-python-shell[ipython]<0.6,>=0.5->xeus-python) (5.1.1)\n",
      "Requirement already satisfied: parso<0.9.0,>=0.8.0 in /Users/josereyes/anaconda3/lib/python3.10/site-packages (from jedi>=0.16->ipython<9,>=7.21->xeus-python-shell[ipython]<0.6,>=0.5->xeus-python) (0.8.3)\n",
      "Requirement already satisfied: ptyprocess>=0.5 in /Users/josereyes/anaconda3/lib/python3.10/site-packages (from pexpect>4.3->ipython<9,>=7.21->xeus-python-shell[ipython]<0.6,>=0.5->xeus-python) (0.7.0)\n",
      "Requirement already satisfied: wcwidth in /Users/josereyes/anaconda3/lib/python3.10/site-packages (from prompt-toolkit<3.1.0,>=3.0.30->ipython<9,>=7.21->xeus-python-shell[ipython]<0.6,>=0.5->xeus-python) (0.2.5)\n",
      "Requirement already satisfied: asttokens in /Users/josereyes/anaconda3/lib/python3.10/site-packages (from stack-data->ipython<9,>=7.21->xeus-python-shell[ipython]<0.6,>=0.5->xeus-python) (2.0.5)\n",
      "Requirement already satisfied: executing in /Users/josereyes/anaconda3/lib/python3.10/site-packages (from stack-data->ipython<9,>=7.21->xeus-python-shell[ipython]<0.6,>=0.5->xeus-python) (0.8.3)\n",
      "Requirement already satisfied: pure-eval in /Users/josereyes/anaconda3/lib/python3.10/site-packages (from stack-data->ipython<9,>=7.21->xeus-python-shell[ipython]<0.6,>=0.5->xeus-python) (0.2.2)\n",
      "Requirement already satisfied: six in /Users/josereyes/anaconda3/lib/python3.10/site-packages (from asttokens->stack-data->ipython<9,>=7.21->xeus-python-shell[ipython]<0.6,>=0.5->xeus-python) (1.16.0)\n"
     ]
    }
   ],
   "source": [
    "! pip install implicit\n",
    "! pip install ipywidgets\n",
    "! pip install xeus-python"
   ]
  },
  {
   "cell_type": "code",
   "execution_count": 2,
   "metadata": {
    "executionInfo": {
     "elapsed": 1,
     "status": "ok",
     "timestamp": 1683460049038,
     "user": {
      "displayName": "Jose Reyes",
      "userId": "00968139453480770759"
     },
     "user_tz": -600
    },
    "id": "YfLvjir8iWJX"
   },
   "outputs": [
    {
     "name": "stdout",
     "output_type": "stream",
     "text": [
      "Number of unique users: 1000\n",
      "Number of unique items: 2339\n",
      "Min value user index: 0\n",
      "Max value user index: 999\n",
      "Min value item index: 0\n",
      "Max value item index: 2338\n"
     ]
    },
    {
     "data": {
      "text/html": [
       "<div>\n",
       "<style scoped>\n",
       "    .dataframe tbody tr th:only-of-type {\n",
       "        vertical-align: middle;\n",
       "    }\n",
       "\n",
       "    .dataframe tbody tr th {\n",
       "        vertical-align: top;\n",
       "    }\n",
       "\n",
       "    .dataframe thead th {\n",
       "        text-align: right;\n",
       "    }\n",
       "</style>\n",
       "<table border=\"1\" class=\"dataframe\">\n",
       "  <thead>\n",
       "    <tr style=\"text-align: right;\">\n",
       "      <th></th>\n",
       "      <th>USER_ID</th>\n",
       "      <th>ITEM_ID</th>\n",
       "      <th>CONFIDENCE</th>\n",
       "      <th>USER_IDX</th>\n",
       "      <th>ITEM_IDX</th>\n",
       "    </tr>\n",
       "  </thead>\n",
       "  <tbody>\n",
       "    <tr>\n",
       "      <th>0</th>\n",
       "      <td>375</td>\n",
       "      <td>00096972-5f6b-44df-917b-f7d21ae5644c</td>\n",
       "      <td>4.0</td>\n",
       "      <td>374</td>\n",
       "      <td>0</td>\n",
       "    </tr>\n",
       "    <tr>\n",
       "      <th>1</th>\n",
       "      <td>539</td>\n",
       "      <td>00096972-5f6b-44df-917b-f7d21ae5644c</td>\n",
       "      <td>19.0</td>\n",
       "      <td>538</td>\n",
       "      <td>0</td>\n",
       "    </tr>\n",
       "    <tr>\n",
       "      <th>2</th>\n",
       "      <td>657</td>\n",
       "      <td>00096972-5f6b-44df-917b-f7d21ae5644c</td>\n",
       "      <td>6.0</td>\n",
       "      <td>656</td>\n",
       "      <td>0</td>\n",
       "    </tr>\n",
       "    <tr>\n",
       "      <th>3</th>\n",
       "      <td>698</td>\n",
       "      <td>00096972-5f6b-44df-917b-f7d21ae5644c</td>\n",
       "      <td>6.0</td>\n",
       "      <td>697</td>\n",
       "      <td>0</td>\n",
       "    </tr>\n",
       "    <tr>\n",
       "      <th>4</th>\n",
       "      <td>74</td>\n",
       "      <td>0016fde3-0910-4cc1-8ef6-90e15f271073</td>\n",
       "      <td>3.0</td>\n",
       "      <td>73</td>\n",
       "      <td>1</td>\n",
       "    </tr>\n",
       "    <tr>\n",
       "      <th>...</th>\n",
       "      <td>...</td>\n",
       "      <td>...</td>\n",
       "      <td>...</td>\n",
       "      <td>...</td>\n",
       "      <td>...</td>\n",
       "    </tr>\n",
       "    <tr>\n",
       "      <th>8273</th>\n",
       "      <td>295</td>\n",
       "      <td>ffcc4cc8-a094-49ea-b9f2-8bf056261868</td>\n",
       "      <td>12.0</td>\n",
       "      <td>294</td>\n",
       "      <td>2337</td>\n",
       "    </tr>\n",
       "    <tr>\n",
       "      <th>8274</th>\n",
       "      <td>389</td>\n",
       "      <td>ffcc4cc8-a094-49ea-b9f2-8bf056261868</td>\n",
       "      <td>12.0</td>\n",
       "      <td>388</td>\n",
       "      <td>2337</td>\n",
       "    </tr>\n",
       "    <tr>\n",
       "      <th>8275</th>\n",
       "      <td>39</td>\n",
       "      <td>ffdb2dc7-ea75-4197-9826-e81ccd42f578</td>\n",
       "      <td>9.0</td>\n",
       "      <td>38</td>\n",
       "      <td>2338</td>\n",
       "    </tr>\n",
       "    <tr>\n",
       "      <th>8276</th>\n",
       "      <td>309</td>\n",
       "      <td>ffdb2dc7-ea75-4197-9826-e81ccd42f578</td>\n",
       "      <td>8.0</td>\n",
       "      <td>308</td>\n",
       "      <td>2338</td>\n",
       "    </tr>\n",
       "    <tr>\n",
       "      <th>8277</th>\n",
       "      <td>600</td>\n",
       "      <td>ffdb2dc7-ea75-4197-9826-e81ccd42f578</td>\n",
       "      <td>4.0</td>\n",
       "      <td>599</td>\n",
       "      <td>2338</td>\n",
       "    </tr>\n",
       "  </tbody>\n",
       "</table>\n",
       "<p>8278 rows × 5 columns</p>\n",
       "</div>"
      ],
      "text/plain": [
       "     USER_ID                               ITEM_ID  CONFIDENCE  USER_IDX  \\\n",
       "0        375  00096972-5f6b-44df-917b-f7d21ae5644c         4.0       374   \n",
       "1        539  00096972-5f6b-44df-917b-f7d21ae5644c        19.0       538   \n",
       "2        657  00096972-5f6b-44df-917b-f7d21ae5644c         6.0       656   \n",
       "3        698  00096972-5f6b-44df-917b-f7d21ae5644c         6.0       697   \n",
       "4         74  0016fde3-0910-4cc1-8ef6-90e15f271073         3.0        73   \n",
       "...      ...                                   ...         ...       ...   \n",
       "8273     295  ffcc4cc8-a094-49ea-b9f2-8bf056261868        12.0       294   \n",
       "8274     389  ffcc4cc8-a094-49ea-b9f2-8bf056261868        12.0       388   \n",
       "8275      39  ffdb2dc7-ea75-4197-9826-e81ccd42f578         9.0        38   \n",
       "8276     309  ffdb2dc7-ea75-4197-9826-e81ccd42f578         8.0       308   \n",
       "8277     600  ffdb2dc7-ea75-4197-9826-e81ccd42f578         4.0       599   \n",
       "\n",
       "      ITEM_IDX  \n",
       "0            0  \n",
       "1            0  \n",
       "2            0  \n",
       "3            0  \n",
       "4            1  \n",
       "...        ...  \n",
       "8273      2337  \n",
       "8274      2337  \n",
       "8275      2338  \n",
       "8276      2338  \n",
       "8277      2338  \n",
       "\n",
       "[8278 rows x 5 columns]"
      ]
     },
     "execution_count": 2,
     "metadata": {},
     "output_type": "execute_result"
    }
   ],
   "source": [
    "import pandas as pd\n",
    "from scipy import sparse\n",
    "import implicit\n",
    "from sklearn.preprocessing import MinMaxScaler\n",
    "\n",
    "df = pd.read_csv(\"interactions.csv\")\n",
    "df_items = pd.read_csv(\"items.csv\")\n",
    "\n",
    "# drop columns which we don't need\n",
    "df = df.drop([\"TIMESTAMP\", \"DISCOUNT\"], axis=1)\n",
    "\n",
    "# add confidence scores\n",
    "event_type_confidence = {\n",
    "   \"View\": 1.0,\n",
    "   \"AddToCart\": 2.0, \n",
    "   \"ViewCart\": 3.0, \n",
    "   \"StartCheckout\": 4.0,\n",
    "   \"Purchase\": 5.0,  \n",
    "}\n",
    "\n",
    "df[\"CONFIDENCE\"] = df[\"EVENT_TYPE\"].apply(lambda x: event_type_confidence[x])\n",
    "# 90,000 interactions\n",
    "# print(df)\n",
    "\n",
    "# this removes duplicates and adds up the confidence => down to 26K unique user-item interactions + confidence\n",
    "grouped_df = df.groupby([\"ITEM_ID\", \"USER_ID\"]).sum(\"CONFIDENCE\").reset_index()\n",
    "grouped_df = grouped_df[[\"USER_ID\", \"ITEM_ID\", \"CONFIDENCE\"]] # re-order columns\n",
    "# print(grouped_df)\n",
    "\n",
    "# train\n",
    "grouped_df[\"USER_ID\"] = grouped_df[\"USER_ID\"].astype(\"category\")\n",
    "grouped_df[\"ITEM_ID\"] = grouped_df[\"ITEM_ID\"].astype(\"category\")\n",
    "print(f\"Number of unique users: {grouped_df['USER_ID'].nunique()}\")\n",
    "print(f\"Number of unique items: {grouped_df.ITEM_ID.nunique()}\")\n",
    "grouped_df[\"USER_IDX\"] = grouped_df[\"USER_ID\"].cat.codes\n",
    "grouped_df[\"ITEM_IDX\"] = grouped_df[\"ITEM_ID\"].cat.codes\n",
    "print(f\"Min value user index: {grouped_df['USER_IDX'].min()}\")\n",
    "print(f\"Max value user index: {grouped_df['USER_IDX'].max()}\")\n",
    "print(f\"Min value item index: {grouped_df['ITEM_IDX'].min()}\")\n",
    "print(f\"Max value item index: {grouped_df['ITEM_IDX'].max()}\")\n",
    "# print(grouped_df)\n",
    "\n",
    "# Find items purchased by a given user\n",
    "# try_user = 168\n",
    "# try_result = grouped_df[grouped_df.USER_ID == try_user]\n",
    "# print(\"Try result:\")\n",
    "# print(try_result)\n",
    "\n",
    "sparse_person_content = sparse.csr_matrix((grouped_df[\"CONFIDENCE\"].astype(float), (grouped_df[\"USER_IDX\"], grouped_df[\"ITEM_IDX\"])))\n",
    "sparse_person_content\n",
    "grouped_df"
   ]
  },
  {
   "cell_type": "code",
   "execution_count": 3,
   "metadata": {},
   "outputs": [
    {
     "name": "stdout",
     "output_type": "stream",
     "text": [
      "Number of samples: 1656\n",
      "Length nonzero pairs: 8278\n",
      "Length samples: 1656\n",
      "user-item masked samples: [(207, 1061), (47, 20), (509, 866), (451, 584), (411, 2231), (259, 1460), (190, 127), (161, 2330), (783, 1170), (60, 1552)]\n",
      "Length user index samples: 1656\n",
      "Length item index samples: 1656\n"
     ]
    }
   ],
   "source": [
    "import random\n",
    "import numpy as np\n",
    "\n",
    "def make_train_test(sparse_matrix, pct_test=0.2):\n",
    "  test_set = sparse_matrix.copy()  # Make a copy of the original set to be the test set.\n",
    "  training_set = sparse_matrix.copy() # Make a copy of the original data we can alter as our training set.\n",
    "  nonzero_inds = (\n",
    "      training_set.nonzero()\n",
    "  )  # Find the indices in the ratings data where an interaction exists\n",
    "  nonzero_pairs = list(\n",
    "      zip(nonzero_inds[0], nonzero_inds[1])\n",
    "  )  # Zip these pairs together of user,item index into list\n",
    "  random.seed(42)  # Set the random seed to zero for reproducibility\n",
    "  num_samples = int(\n",
    "      np.ceil(pct_test * len(nonzero_pairs))\n",
    "  )  # Round the number of samples needed to the nearest integer\n",
    "  print(f\"Number of samples: {num_samples}\")\n",
    "  samples = random.sample(\n",
    "      nonzero_pairs, num_samples\n",
    "  )  # Sample a random number of user-item pairs without replacement\n",
    "  print(f\"Length nonzero pairs: {len(nonzero_pairs)}\")\n",
    "  print(f\"Length samples: {len(samples)}\")\n",
    "  print(f\"user-item masked samples: {samples[0:10]}\" )\n",
    "  user_inds = [index[0] for index in samples]  # Get the user row indices\n",
    "  item_inds = [index[1] for index in samples]  # Get the item column indices\n",
    "  print(f\"Length user index samples: {len(user_inds)}\")\n",
    "  print(f\"Length item index samples: {len(item_inds)}\")\n",
    "  training_set[\n",
    "      user_inds, item_inds\n",
    "  ] = 0  # Assign all of the randomly chosen user-item pairs to zero\n",
    "  training_set.eliminate_zeros()  # Get rid of zeros in sparse array storage after update to save space\n",
    "  return (\n",
    "      training_set,\n",
    "      test_set,\n",
    "      list(set(item_inds)),\n",
    "  )  # Output the unique list of user rows that were altered\n",
    "  \n",
    "training_set, test_set, product_users_altered =  make_train_test(sparse_person_content, pct_test=0.2)\n",
    "# training_set, test_set =  make_train_test(sparse_person_content, pct_test=0.2)\n",
    "# print(training_set)\n",
    "# print(\"-------------\")\n",
    "# print(test_set)\n"
   ]
  },
  {
   "cell_type": "code",
   "execution_count": 4,
   "metadata": {},
   "outputs": [
    {
     "name": "stderr",
     "output_type": "stream",
     "text": [
      "/Users/josereyes/anaconda3/lib/python3.10/site-packages/implicit/utils.py:28: UserWarning: OpenBLAS detected. Its highly recommend to set the environment variable 'export OPENBLAS_NUM_THREADS=1' to disable its internal multithreading\n",
      "  warnings.warn(\n"
     ]
    },
    {
     "data": {
      "application/vnd.jupyter.widget-view+json": {
       "model_id": "5839c4d29cea40e2bda72dfa308e7618",
       "version_major": 2,
       "version_minor": 0
      },
      "text/plain": [
       "  0%|          | 0/50 [00:00<?, ?it/s]"
      ]
     },
     "metadata": {},
     "output_type": "display_data"
    }
   ],
   "source": [
    "alpha = 15\n",
    "model_training = implicit.als.AlternatingLeastSquares(alpha=alpha, factors=20, regularization=0.1, iterations=50)\n",
    "\n",
    "training_data = (training_set).astype('double')\n",
    "model_training.fit(training_data)"
   ]
  },
  {
   "cell_type": "code",
   "execution_count": 5,
   "metadata": {},
   "outputs": [
    {
     "name": "stdout",
     "output_type": "stream",
     "text": [
      "(1000, 2339)\n"
     ]
    },
    {
     "data": {
      "text/plain": [
       "99.7168875587858"
      ]
     },
     "execution_count": 5,
     "metadata": {},
     "output_type": "execute_result"
    }
   ],
   "source": [
    "# calculate the sparsity of our sparse matrix\n",
    "print(training_set.shape)\n",
    "matrix_size = training_set.shape[0]*training_set.shape[1] # Number of possible interactions in the matrix\n",
    "num_confidence_interactions = len(training_set.nonzero()[0]) # Number of items interacted with\n",
    "sparsity = 100*(1 - (num_confidence_interactions/matrix_size))\n",
    "sparsity"
   ]
  },
  {
   "cell_type": "code",
   "execution_count": 6,
   "metadata": {},
   "outputs": [
    {
     "name": "stdout",
     "output_type": "stream",
     "text": [
      "Item ID: aff05423-76e8-4339-a478-fc17d51ed985, Desc: 16oz fountain soda always hits the spot\n",
      "Item ID: 0790267c-c708-424d-81f5-46903a9c8444, Desc: Slice of delicious pepperoni pizza\n",
      "Item ID: 9c1a2048-7aac-4565-b836-d8d4f726322c, Desc: Crunchy and yummy! Crumbs in your lap!\n",
      "Item ID: 24c62ad2-6977-4f69-be75-e37d897c1434, Desc: Warms you to your bowels and delivers vitamins to your organs\n",
      "Item ID: 575c0ac0-5494-4c64-a886-a9c0cf8b779a, Desc: Lentils with potatos, carrots and spices; a joy to your palate and super healthy\n",
      "Item ID: 0987bfa1-0a23-4b90-8882-8a6e9bd91e24, Desc: Juicy prawns with spicy sauce and rice\n",
      "Item ID: b20ba076-58a7-4602-9b56-4bee46e98388, Desc: The best nachos north of Mexico\n",
      "Item ID: 5afced84-ed2d-4520-a06d-dcfeab382e52, Desc: Made with ginseng and joy\n",
      "Item ID: 4496471c-b098-4915-9a1a-8b9e60043737, Desc: The taste of summer and energy\n",
      "Item ID: 0de9bba0-1149-40e9-b1a6-7dcecaf68194, Desc: Thick and fine smoothy, satisfying and healthy\n",
      "Item ID: 25d7bbf6-7dd3-4912-93a7-4186ea417b54, Desc: Full of omega oils and taste\n",
      "Item ID: 7a619c82-a5da-4bc9-b6e6-64e93c51fb55, Desc: You won't be able to stop eating them and you will have to come back for more.\n",
      "Item ID: 5d6023ca-e614-49ea-aa61-643d9f7284d7, Desc: A must-have in every bathroom\n",
      "Item ID: 5858c342-2d79-4abe-91b4-d794c16b96d1, Desc: Nice towel for the washroom\n",
      "Item ID: 9cc46ed9-287c-4ce8-bdb5-8e1fed177dd5, Desc: Learn to cook Italian cuisine with these easy recipes\n",
      "Item ID: b3ac3191-20ee-491c-8a24-42e0889152ef, Desc: Soft toothbrush for everyday use\n",
      "Item ID: 4adabef5-293b-42c0-b6d1-1cf853f6391d, Desc: Plan your next trip with this essential reference book on China\n",
      "Item ID: 53ce7597-bb59-45e0-a3a3-ca3ef6f7ce1c, Desc: Plan your next trip with this essential reference book on France\n",
      "Item ID: 4f13bb6a-20f0-4067-a33d-6585b3cd26f2, Desc: Learn to cook Chinese cuisine with these easy recipes\n",
      "Item ID: 36e1f150-3d83-4d3c-9855-8daf858d8e28, Desc: A must-have in every bathroom\n"
     ]
    }
   ],
   "source": [
    "# Get popular items (to use as baseline)\n",
    "popular_items = grouped_df.ITEM_ID.value_counts(sort=True).keys()[:20]\n",
    "top_n_popular_items = []\n",
    "for item in popular_items:\n",
    "    item_desc = df_items.PRODUCT_DESCRIPTION.loc[df_items.ITEM_ID == item].iloc[0]\n",
    "    item_index = grouped_df.ITEM_IDX.loc[grouped_df.ITEM_ID == item].iloc[0]\n",
    "    print(f\"Item ID: {item}, Desc: {item_desc}\")\n",
    "    top_n_popular_items.append(item_index)\n",
    "# top_n_popular_items\n",
    "    \n"
   ]
  },
  {
   "cell_type": "code",
   "execution_count": 40,
   "metadata": {},
   "outputs": [
    {
     "name": "stdout",
     "output_type": "stream",
     "text": [
      "(array([ 342, 2223, 1081,  884, 1938, 2038, 1874, 1748,  453, 1486, 2173,\n",
      "       2238, 1714,  863, 1385, 1632,    9,  482, 1600,   96], dtype=int32), array([0.8645317 , 0.71201605, 0.7022458 , 0.6850225 , 0.6736598 ,\n",
      "       0.6689093 , 0.6683763 , 0.6681689 , 0.66321975, 0.602503  ,\n",
      "       0.5995737 , 0.5941973 , 0.5918359 , 0.5884895 , 0.5775304 ,\n",
      "       0.5773646 , 0.5768895 , 0.57248485, 0.57224053, 0.57223445],\n",
      "      dtype=float32))\n",
      "User idx: 27\n",
      "               26b2bda2-9397-4d0c-b5bb-9190dbba3acb,               0.8645316958427429,               This television is perfect for every room\n",
      "               f1c73a48-b83e-45b7-b812-8b0b7f372208,               0.7120160460472107,               This pair of gray boots is sans pareil for the spring\n",
      "               7397bcf5-06c0-4aee-922f-8d111c10e090,               0.7022457718849182,               Pair of strappy heels for women\n",
      "               5ecc8c5f-16b7-421a-997b-136f40fecb5b,               0.6850224733352661,               Take this trusty fishing lure with you\n",
      "               d23ef17b-f59c-4f8e-959f-be8faef2ac9a,               0.6736598014831543,               Edgy sienna boots for rambling far and wide\n",
      "               dcf8a704-e158-4d3f-85eb-f72c8200ae7c,               0.6689093112945557,               An all-around supercool pair of gainsboro sneakers\n",
      "               ca25b000-2e61-4d1d-b4f5-02263bb3e93f,               0.6683763265609741,               Pair of nude heels for women\n",
      "               bb3f926c-9869-4b47-b13d-63271768f0b1,               0.6681689023971558,               Pair of sparkly formal heels for women\n",
      "               329a1a85-57dd-48c4-a00a-c5e7f6e9ea12,               0.6632197499275208,               Authoritative pair of headphones for listening to your music\n",
      "               9f251479-7904-4563-b826-cd4f3739949b,               0.6025030016899109,               Be sure to bring this camping tent with you to the outdoors\n",
      "               ebee2ea6-fdc1-4d94-a9ac-b05f328e7ddb,               0.5995736718177795,               An all-around bold pair of dark slate gray sneakers\n",
      "               f39a1cf9-00cb-4d41-98f2-a429e03dfc73,               0.5941972732543945,               Pair of sparkly formal heels for women\n",
      "               b803aff7-6e4b-4beb-8d1d-dc7fe609274d,               0.5918359160423279,               Laptop computer for your computing needs\n",
      "               5cdf4255-a8a5-43d8-a996-0540dfcdd702,               0.5884894728660583,               This LED television delivers a sharp picture\n",
      "               94919e8d-b57e-41a1-9f38-967a2eca2b82,               0.5775303840637207,               Pair of beige heels for women\n",
      "               af4c855d-7897-41e3-b265-35941a64e659,               0.5773646235466003,               Faultless speakers to fill the house with beautiful music\n",
      "               018ed8da-1977-4afd-ac8a-58be861fbe45,               0.5768895149230957,               This video camera is perfect for capturing those special moments\n",
      "               36543d2c-e485-4822-9dfa-ee0fc4b2db0e,               0.5724848508834839,               Pair of black heels for women\n",
      "               ab704911-0afe-4c60-bf22-134c9e45f6d5,               0.5722405314445496,               This convenient cable is a must-have for your electronics\n",
      "               0b7cbd19-b968-47c5-87c8-e0f34b001e6e,               0.5722344517707825,               Modish pair of blue sneakers for rambling in the neighborhood\n"
     ]
    }
   ],
   "source": [
    "def call_recommend(model, user_items, N=20):\n",
    "    num_recomm = N\n",
    "    user_idx = 27 # try these user-item indices [(718, 402), (124, 450), (27, 1795), (832, 723), (307, 1846), (273, 870), (249, 381), (155, 2209), (826, 1110), (114, 1245)]\n",
    "    recommendations_raw = model.recommend(user_idx, user_items[user_idx], N=num_recomm)\n",
    "    predictions = recommendations_raw[0][:num_recomm] # these are the top x0 preditictions using the train set\n",
    "\n",
    "    print(recommendations_raw)\n",
    "\n",
    "    print(f\"User idx: {user_idx}\")\n",
    "    for idx in range(0, num_recomm):\n",
    "        item_id = grouped_df.ITEM_ID.loc[grouped_df.ITEM_IDX == recommendations_raw[0][idx]].iloc[0]\n",
    "        item_desc = df_items.PRODUCT_DESCRIPTION.loc[df_items.ITEM_ID == item_id].iloc[0]\n",
    "        print(f\" \\\n",
    "              {item_id}, \\\n",
    "              {recommendations_raw[1][idx]}, \\\n",
    "              {item_desc}\")\n",
    "    return predictions\n",
    "\n",
    "train_set_predictions = call_recommend(model_training, training_set)"
   ]
  },
  {
   "cell_type": "code",
   "execution_count": 41,
   "metadata": {},
   "outputs": [
    {
     "data": {
      "application/vnd.jupyter.widget-view+json": {
       "model_id": "a2eeb91d2ec14d76935a7dd1e00eef0a",
       "version_major": 2,
       "version_minor": 0
      },
      "text/plain": [
       "  0%|          | 0/50 [00:00<?, ?it/s]"
      ]
     },
     "metadata": {},
     "output_type": "display_data"
    }
   ],
   "source": [
    "# try the test set\n",
    "model_testing = implicit.als.AlternatingLeastSquares(alpha=alpha, factors=20, regularization=0.1, iterations=50)\n",
    "\n",
    "testing_data = (test_set).astype('double')\n",
    "model_testing.fit(testing_data)\n"
   ]
  },
  {
   "cell_type": "code",
   "execution_count": 42,
   "metadata": {},
   "outputs": [
    {
     "name": "stdout",
     "output_type": "stream",
     "text": [
      "(array([ 453, 1684,  342, 1081, 2223,  108, 1874, 1938, 1488, 1748, 1600,\n",
      "         28,  884,  244,   96,  482, 1445, 1575, 1869, 1796], dtype=int32), array([0.8264533 , 0.80102104, 0.7680993 , 0.7656698 , 0.75157213,\n",
      "       0.7370718 , 0.720719  , 0.70890903, 0.70353127, 0.68903124,\n",
      "       0.66724336, 0.65598506, 0.6492932 , 0.64101374, 0.62479734,\n",
      "       0.620091  , 0.6179529 , 0.6098746 , 0.6051255 , 0.603426  ],\n",
      "      dtype=float32))\n",
      "User idx: 27\n",
      "               329a1a85-57dd-48c4-a00a-c5e7f6e9ea12,               0.8264533281326294,               Authoritative pair of headphones for listening to your music\n",
      "               b4a323f8-0571-4bde-afe7-a27bc5394603,               0.8010210394859314,               Accurate pair of headphones for listening to your music\n",
      "               26b2bda2-9397-4d0c-b5bb-9190dbba3acb,               0.768099308013916,               This television is perfect for every room\n",
      "               7397bcf5-06c0-4aee-922f-8d111c10e090,               0.7656698226928711,               Pair of strappy heels for women\n",
      "               f1c73a48-b83e-45b7-b812-8b0b7f372208,               0.7515721321105957,               This pair of gray boots is sans pareil for the spring\n",
      "               0cb3ab29-b939-4732-b8ac-72ec61a4f950,               0.7370718121528625,               Camera for amateurs and professonals\n",
      "               ca25b000-2e61-4d1d-b4f5-02263bb3e93f,               0.7207189798355103,               Pair of nude heels for women\n",
      "               d23ef17b-f59c-4f8e-959f-be8faef2ac9a,               0.7089090347290039,               Edgy sienna boots for rambling far and wide\n",
      "               9f32c911-f282-4d71-b70d-30f6d5630a35,               0.7035312652587891,               This handy cable is a must-have for your electronics\n",
      "               bb3f926c-9869-4b47-b13d-63271768f0b1,               0.6890312433242798,               Pair of sparkly formal heels for women\n",
      "               ab704911-0afe-4c60-bf22-134c9e45f6d5,               0.6672433614730835,               This convenient cable is a must-have for your electronics\n",
      "               0395c84b-d532-495d-8b4c-25cbaff606f7,               0.6559850573539734,               This camping tent is a must-have for your next trip\n",
      "               5ecc8c5f-16b7-421a-997b-136f40fecb5b,               0.6492931842803955,               Take this trusty fishing lure with you\n",
      "               1cd4ec2e-4786-47f7-92f4-6d44db0cff2c,               0.6410137414932251,               This high fidelity pair of headphones is incomparable in clarity\n",
      "               0b7cbd19-b968-47c5-87c8-e0f34b001e6e,               0.6247973442077637,               Modish pair of blue sneakers for rambling in the neighborhood\n",
      "               36543d2c-e485-4822-9dfa-ee0fc4b2db0e,               0.6200910210609436,               Pair of black heels for women\n",
      "               9a66adca-22dc-4e13-bf61-ceb1f5fffcb6,               0.6179528832435608,               This pair of black boots is sans pareil for the autumn\n",
      "               a835dad2-1935-40a4-a32d-da112fafc3a3,               0.6098746061325073,               Foolproof and easy to use fishing reel\n",
      "               c9864541-b1a9-45a5-9304-e6782843a9c1,               0.6051254868507385,               This pair of brown boots is outstanding for the season\n",
      "               c0abd282-4bc0-4bbd-936a-9b5ad0c2eeb7,               0.6034259796142578,               This practical cable is a must-have for your electronics\n"
     ]
    }
   ],
   "source": [
    "test_set_predictions = call_recommend(model_testing, test_set)\n"
   ]
  },
  {
   "cell_type": "code",
   "execution_count": 43,
   "metadata": {},
   "outputs": [
    {
     "name": "stdout",
     "output_type": "stream",
     "text": [
      "APK:  0.40773\n",
      "APK (Popular Items):  0.0\n"
     ]
    }
   ],
   "source": [
    "from IPython.core.debugger import set_trace\n",
    "def AverageReciprocalHitRank(train_set_predictions, test_set_predictions):\n",
    "    '''\n",
    "    Calcluate the Average Reciprocal Hit Rank \n",
    "    by comparing the top 20 predictions from both the\n",
    "    training set and the test set. The training set contains the\n",
    "    masked out items using function make_train_test\n",
    "    '''\n",
    "    summation = 0\n",
    "    rank = 1\n",
    "    index = 0\n",
    "    # For each left-out rating\n",
    "    for test_set_item_id in test_set_predictions:\n",
    "        # Is it in the predicted top N for this user?\n",
    "        train_set_item_id = train_set_predictions[index]\n",
    "        # set_trace()\n",
    "        if (test_set_item_id == train_set_item_id):\n",
    "            summation += 1.0 / rank\n",
    "        rank = rank + 1\n",
    "        index = index + 1\n",
    "        # print(f\"{index}, {len(test_set_predictions)-1}\")\n",
    "        if (index > (len(test_set_predictions)-1)):\n",
    "            break\n",
    "\n",
    "    return round(summation, 5)\n",
    "\n",
    "def average_precision_at_k(y_true, y_pred, k_max=0):\n",
    "\n",
    "  # Check if all elements in lists are unique\n",
    "  if len(set(y_true)) != len(y_true):\n",
    "    raise ValueError(\"Values in y_true are not unique\")\n",
    "\n",
    "  if len(set(y_pred)) != len(y_pred):\n",
    "    raise ValueError(\"Values in y_pred are not unique\")\n",
    "\n",
    "  if k_max != 0:\n",
    "    y_pred = y_pred[:k_max]\n",
    "\n",
    "\n",
    "  correct_predictions = 0\n",
    "  running_sum = 0\n",
    "\n",
    "  for i, yp_item in enumerate(y_pred):\n",
    "    \n",
    "    k = i+1 # our rank starts at 1\n",
    "    \n",
    "    if yp_item in y_true:\n",
    "      correct_predictions += 1\n",
    "      running_sum += correct_predictions/k\n",
    "\n",
    "  return round(running_sum/len(y_true), 5)\n",
    "\n",
    "print(\"APK: \", average_precision_at_k(train_set_predictions, test_set_predictions))\n",
    "print(\"APK (Popular Items): \", average_precision_at_k(train_set_predictions, top_n_popular_items))"
   ]
  },
  {
   "cell_type": "code",
   "execution_count": 44,
   "metadata": {},
   "outputs": [
    {
     "name": "stdout",
     "output_type": "stream",
     "text": [
      "APK:  1.0\n",
      "APK (Popular Items):  0.0\n"
     ]
    }
   ],
   "source": [
    "print(\"APK: \", average_precision_at_k(test_set_predictions, test_set_predictions))\n",
    "print(\"APK (Popular Items): \", average_precision_at_k(test_set_predictions, top_n_popular_items))"
   ]
  },
  {
   "cell_type": "code",
   "execution_count": 45,
   "metadata": {},
   "outputs": [
    {
     "name": "stdout",
     "output_type": "stream",
     "text": [
      "(array([ 342, 2223, 1081,  884, 1938, 2038, 1874, 1748,  453, 1486, 2173,\n",
      "       2238, 1714,  863, 1385, 1632,    9,  482, 1600,   96], dtype=int32), array([0.8645317 , 0.71201605, 0.7022458 , 0.6850225 , 0.6736598 ,\n",
      "       0.6689093 , 0.6683763 , 0.6681689 , 0.66321975, 0.602503  ,\n",
      "       0.5995737 , 0.5941973 , 0.5918359 , 0.5884895 , 0.5775304 ,\n",
      "       0.5773646 , 0.5768895 , 0.57248485, 0.57224053, 0.57223445],\n",
      "      dtype=float32))\n",
      "User idx: 27\n",
      "               26b2bda2-9397-4d0c-b5bb-9190dbba3acb,               0.8645316958427429,               This television is perfect for every room\n",
      "               f1c73a48-b83e-45b7-b812-8b0b7f372208,               0.7120160460472107,               This pair of gray boots is sans pareil for the spring\n",
      "               7397bcf5-06c0-4aee-922f-8d111c10e090,               0.7022457718849182,               Pair of strappy heels for women\n",
      "               5ecc8c5f-16b7-421a-997b-136f40fecb5b,               0.6850224733352661,               Take this trusty fishing lure with you\n",
      "               d23ef17b-f59c-4f8e-959f-be8faef2ac9a,               0.6736598014831543,               Edgy sienna boots for rambling far and wide\n",
      "               dcf8a704-e158-4d3f-85eb-f72c8200ae7c,               0.6689093112945557,               An all-around supercool pair of gainsboro sneakers\n",
      "               ca25b000-2e61-4d1d-b4f5-02263bb3e93f,               0.6683763265609741,               Pair of nude heels for women\n",
      "               bb3f926c-9869-4b47-b13d-63271768f0b1,               0.6681689023971558,               Pair of sparkly formal heels for women\n",
      "               329a1a85-57dd-48c4-a00a-c5e7f6e9ea12,               0.6632197499275208,               Authoritative pair of headphones for listening to your music\n",
      "               9f251479-7904-4563-b826-cd4f3739949b,               0.6025030016899109,               Be sure to bring this camping tent with you to the outdoors\n",
      "               ebee2ea6-fdc1-4d94-a9ac-b05f328e7ddb,               0.5995736718177795,               An all-around bold pair of dark slate gray sneakers\n",
      "               f39a1cf9-00cb-4d41-98f2-a429e03dfc73,               0.5941972732543945,               Pair of sparkly formal heels for women\n",
      "               b803aff7-6e4b-4beb-8d1d-dc7fe609274d,               0.5918359160423279,               Laptop computer for your computing needs\n",
      "               5cdf4255-a8a5-43d8-a996-0540dfcdd702,               0.5884894728660583,               This LED television delivers a sharp picture\n",
      "               94919e8d-b57e-41a1-9f38-967a2eca2b82,               0.5775303840637207,               Pair of beige heels for women\n",
      "               af4c855d-7897-41e3-b265-35941a64e659,               0.5773646235466003,               Faultless speakers to fill the house with beautiful music\n",
      "               018ed8da-1977-4afd-ac8a-58be861fbe45,               0.5768895149230957,               This video camera is perfect for capturing those special moments\n",
      "               36543d2c-e485-4822-9dfa-ee0fc4b2db0e,               0.5724848508834839,               Pair of black heels for women\n",
      "               ab704911-0afe-4c60-bf22-134c9e45f6d5,               0.5722405314445496,               This convenient cable is a must-have for your electronics\n",
      "               0b7cbd19-b968-47c5-87c8-e0f34b001e6e,               0.5722344517707825,               Modish pair of blue sneakers for rambling in the neighborhood\n",
      "APK:  0.40773\n",
      "APK (Popular Items):  0.0\n"
     ]
    }
   ],
   "source": [
    "check_predictions = call_recommend(model_training, training_set)\n",
    "\n",
    "print(\"APK: \", average_precision_at_k(check_predictions, test_set_predictions))\n",
    "print(\"APK (Popular Items): \", average_precision_at_k(check_predictions, top_n_popular_items))"
   ]
  },
  {
   "cell_type": "code",
   "execution_count": 12,
   "metadata": {
    "id": "MkyxqzmnnygV"
   },
   "outputs": [],
   "source": [
    "# https://nbviewer.org/github/jmsteinw/Notebooks/blob/master/RecEngine_NB.ipynb\n",
    "# This notebook shows awesome extensive process for implicit feedback systems. "
   ]
  },
  {
   "cell_type": "code",
   "execution_count": 13,
   "metadata": {},
   "outputs": [
    {
     "name": "stdout",
     "output_type": "stream",
     "text": [
      "Requirement already satisfied: rank-eval in /Users/josereyes/anaconda3/lib/python3.10/site-packages (0.1.3)\n",
      "Requirement already satisfied: pandas in /Users/josereyes/anaconda3/lib/python3.10/site-packages (from rank-eval) (1.5.3)\n",
      "Requirement already satisfied: numba>=0.54.1 in /Users/josereyes/anaconda3/lib/python3.10/site-packages (from rank-eval) (0.56.4)\n",
      "Requirement already satisfied: tabulate in /Users/josereyes/anaconda3/lib/python3.10/site-packages (from rank-eval) (0.8.10)\n",
      "Requirement already satisfied: tqdm in /Users/josereyes/anaconda3/lib/python3.10/site-packages (from rank-eval) (4.64.1)\n",
      "Requirement already satisfied: numpy in /Users/josereyes/anaconda3/lib/python3.10/site-packages (from rank-eval) (1.23.5)\n",
      "Requirement already satisfied: setuptools in /Users/josereyes/anaconda3/lib/python3.10/site-packages (from numba>=0.54.1->rank-eval) (65.6.3)\n",
      "Requirement already satisfied: llvmlite<0.40,>=0.39.0dev0 in /Users/josereyes/anaconda3/lib/python3.10/site-packages (from numba>=0.54.1->rank-eval) (0.39.1)\n",
      "Requirement already satisfied: python-dateutil>=2.8.1 in /Users/josereyes/anaconda3/lib/python3.10/site-packages (from pandas->rank-eval) (2.8.2)\n",
      "Requirement already satisfied: pytz>=2020.1 in /Users/josereyes/anaconda3/lib/python3.10/site-packages (from pandas->rank-eval) (2022.7)\n",
      "Requirement already satisfied: six>=1.5 in /Users/josereyes/anaconda3/lib/python3.10/site-packages (from python-dateutil>=2.8.1->pandas->rank-eval) (1.16.0)\n"
     ]
    }
   ],
   "source": [
    "! pip install rank-eval"
   ]
  },
  {
   "cell_type": "code",
   "execution_count": 14,
   "metadata": {
    "id": "pQZgcLfTnyL6"
   },
   "outputs": [
    {
     "data": {
      "text/plain": [
       "0.75"
      ]
     },
     "execution_count": 14,
     "metadata": {},
     "output_type": "execute_result"
    }
   ],
   "source": [
    "from rank_eval import Qrels, Run, evaluate\n",
    "\n",
    "qrels = Qrels()\n",
    "qrels.add_multi(\n",
    "    q_ids=[\"q_1\", \"q_2\"],\n",
    "    doc_ids=[\n",
    "        [\"doc_12\", \"doc_25\"],  # q_1 relevant documents\n",
    "        [\"doc_11\", \"doc_2\"],  # q_2 relevant documents\n",
    "    ],\n",
    "    scores=[\n",
    "        [5, 3],  # q_1 relevance judgements\n",
    "        [6, 1],  # q_2 relevance judgements\n",
    "    ],\n",
    ")\n",
    "\n",
    "run = Run()\n",
    "run.add_multi(\n",
    "    q_ids=[\"q_1\", \"q_2\"],\n",
    "    doc_ids=[\n",
    "        [\"doc_12\", \"doc_23\", \"doc_25\", \"doc_36\", \"doc_32\", \"doc_35\"],\n",
    "        [\"doc_12\", \"doc_11\", \"doc_25\", \"doc_36\", \"doc_2\",  \"doc_35\"],\n",
    "    ],\n",
    "    scores=[\n",
    "        [0.9, 0.8, 0.7, 0.6, 0.5, 0.4],\n",
    "        [0.9, 0.8, 0.7, 0.6, 0.5, 0.4],\n",
    "    ],\n",
    ")\n",
    "evaluate(qrels, run, [\"mrr\"])\n"
   ]
  },
  {
   "cell_type": "code",
   "execution_count": null,
   "metadata": {
    "id": "chH-RredilsZ"
   },
   "outputs": [],
   "source": []
  }
 ],
 "metadata": {
  "colab": {
   "authorship_tag": "ABX9TyO5ZU9QnF7mxO4sq8OSLdqA",
   "provenance": []
  },
  "kernelspec": {
   "display_name": "Python 3 (ipykernel)",
   "language": "python",
   "name": "python3"
  },
  "language_info": {
   "codemirror_mode": {
    "name": "ipython",
    "version": 3
   },
   "file_extension": ".py",
   "mimetype": "text/x-python",
   "name": "python",
   "nbconvert_exporter": "python",
   "pygments_lexer": "ipython3",
   "version": "3.10.9"
  },
  "widgets": {
   "application/vnd.jupyter.widget-state+json": {
    "02620e00a2854b28a3a9578e858247de": {
     "model_module": "@jupyter-widgets/controls",
     "model_module_version": "1.5.0",
     "model_name": "DescriptionStyleModel",
     "state": {
      "_model_module": "@jupyter-widgets/controls",
      "_model_module_version": "1.5.0",
      "_model_name": "DescriptionStyleModel",
      "_view_count": null,
      "_view_module": "@jupyter-widgets/base",
      "_view_module_version": "1.2.0",
      "_view_name": "StyleView",
      "description_width": ""
     }
    },
    "30847d2895d64d4bae08cac27fd12af1": {
     "model_module": "@jupyter-widgets/base",
     "model_module_version": "1.2.0",
     "model_name": "LayoutModel",
     "state": {
      "_model_module": "@jupyter-widgets/base",
      "_model_module_version": "1.2.0",
      "_model_name": "LayoutModel",
      "_view_count": null,
      "_view_module": "@jupyter-widgets/base",
      "_view_module_version": "1.2.0",
      "_view_name": "LayoutView",
      "align_content": null,
      "align_items": null,
      "align_self": null,
      "border": null,
      "bottom": null,
      "display": null,
      "flex": null,
      "flex_flow": null,
      "grid_area": null,
      "grid_auto_columns": null,
      "grid_auto_flow": null,
      "grid_auto_rows": null,
      "grid_column": null,
      "grid_gap": null,
      "grid_row": null,
      "grid_template_areas": null,
      "grid_template_columns": null,
      "grid_template_rows": null,
      "height": null,
      "justify_content": null,
      "justify_items": null,
      "left": null,
      "margin": null,
      "max_height": null,
      "max_width": null,
      "min_height": null,
      "min_width": null,
      "object_fit": null,
      "object_position": null,
      "order": null,
      "overflow": null,
      "overflow_x": null,
      "overflow_y": null,
      "padding": null,
      "right": null,
      "top": null,
      "visibility": null,
      "width": null
     }
    },
    "30d1b702fdd741edae7a1f11eff24d97": {
     "model_module": "@jupyter-widgets/controls",
     "model_module_version": "1.5.0",
     "model_name": "HTMLModel",
     "state": {
      "_dom_classes": [],
      "_model_module": "@jupyter-widgets/controls",
      "_model_module_version": "1.5.0",
      "_model_name": "HTMLModel",
      "_view_count": null,
      "_view_module": "@jupyter-widgets/controls",
      "_view_module_version": "1.5.0",
      "_view_name": "HTMLView",
      "description": "",
      "description_tooltip": null,
      "layout": "IPY_MODEL_4ccf88b866d24a83b4969a5241cbf2d1",
      "placeholder": "​",
      "style": "IPY_MODEL_02620e00a2854b28a3a9578e858247de",
      "value": " 50/50 [00:22&lt;00:00,  1.97it/s]"
     }
    },
    "4ccf88b866d24a83b4969a5241cbf2d1": {
     "model_module": "@jupyter-widgets/base",
     "model_module_version": "1.2.0",
     "model_name": "LayoutModel",
     "state": {
      "_model_module": "@jupyter-widgets/base",
      "_model_module_version": "1.2.0",
      "_model_name": "LayoutModel",
      "_view_count": null,
      "_view_module": "@jupyter-widgets/base",
      "_view_module_version": "1.2.0",
      "_view_name": "LayoutView",
      "align_content": null,
      "align_items": null,
      "align_self": null,
      "border": null,
      "bottom": null,
      "display": null,
      "flex": null,
      "flex_flow": null,
      "grid_area": null,
      "grid_auto_columns": null,
      "grid_auto_flow": null,
      "grid_auto_rows": null,
      "grid_column": null,
      "grid_gap": null,
      "grid_row": null,
      "grid_template_areas": null,
      "grid_template_columns": null,
      "grid_template_rows": null,
      "height": null,
      "justify_content": null,
      "justify_items": null,
      "left": null,
      "margin": null,
      "max_height": null,
      "max_width": null,
      "min_height": null,
      "min_width": null,
      "object_fit": null,
      "object_position": null,
      "order": null,
      "overflow": null,
      "overflow_x": null,
      "overflow_y": null,
      "padding": null,
      "right": null,
      "top": null,
      "visibility": null,
      "width": null
     }
    },
    "64fba2e3940a4cdc9d753239e5dcbe47": {
     "model_module": "@jupyter-widgets/base",
     "model_module_version": "1.2.0",
     "model_name": "LayoutModel",
     "state": {
      "_model_module": "@jupyter-widgets/base",
      "_model_module_version": "1.2.0",
      "_model_name": "LayoutModel",
      "_view_count": null,
      "_view_module": "@jupyter-widgets/base",
      "_view_module_version": "1.2.0",
      "_view_name": "LayoutView",
      "align_content": null,
      "align_items": null,
      "align_self": null,
      "border": null,
      "bottom": null,
      "display": null,
      "flex": null,
      "flex_flow": null,
      "grid_area": null,
      "grid_auto_columns": null,
      "grid_auto_flow": null,
      "grid_auto_rows": null,
      "grid_column": null,
      "grid_gap": null,
      "grid_row": null,
      "grid_template_areas": null,
      "grid_template_columns": null,
      "grid_template_rows": null,
      "height": null,
      "justify_content": null,
      "justify_items": null,
      "left": null,
      "margin": null,
      "max_height": null,
      "max_width": null,
      "min_height": null,
      "min_width": null,
      "object_fit": null,
      "object_position": null,
      "order": null,
      "overflow": null,
      "overflow_x": null,
      "overflow_y": null,
      "padding": null,
      "right": null,
      "top": null,
      "visibility": null,
      "width": null
     }
    },
    "79dcc82d6acd4773bc0d93e8c7ea0547": {
     "model_module": "@jupyter-widgets/controls",
     "model_module_version": "1.5.0",
     "model_name": "ProgressStyleModel",
     "state": {
      "_model_module": "@jupyter-widgets/controls",
      "_model_module_version": "1.5.0",
      "_model_name": "ProgressStyleModel",
      "_view_count": null,
      "_view_module": "@jupyter-widgets/base",
      "_view_module_version": "1.2.0",
      "_view_name": "StyleView",
      "bar_color": null,
      "description_width": ""
     }
    },
    "8c7a664879704f15810b79ecf0a07f15": {
     "model_module": "@jupyter-widgets/controls",
     "model_module_version": "1.5.0",
     "model_name": "DescriptionStyleModel",
     "state": {
      "_model_module": "@jupyter-widgets/controls",
      "_model_module_version": "1.5.0",
      "_model_name": "DescriptionStyleModel",
      "_view_count": null,
      "_view_module": "@jupyter-widgets/base",
      "_view_module_version": "1.2.0",
      "_view_name": "StyleView",
      "description_width": ""
     }
    },
    "a25702ebf95349e896430588b47f661b": {
     "model_module": "@jupyter-widgets/controls",
     "model_module_version": "1.5.0",
     "model_name": "HBoxModel",
     "state": {
      "_dom_classes": [],
      "_model_module": "@jupyter-widgets/controls",
      "_model_module_version": "1.5.0",
      "_model_name": "HBoxModel",
      "_view_count": null,
      "_view_module": "@jupyter-widgets/controls",
      "_view_module_version": "1.5.0",
      "_view_name": "HBoxView",
      "box_style": "",
      "children": [
       "IPY_MODEL_dc248596a0144339aeec7d17914b1c4d",
       "IPY_MODEL_fd55b2972dfc4081aa358de5b02cb36e",
       "IPY_MODEL_30d1b702fdd741edae7a1f11eff24d97"
      ],
      "layout": "IPY_MODEL_30847d2895d64d4bae08cac27fd12af1"
     }
    },
    "dc248596a0144339aeec7d17914b1c4d": {
     "model_module": "@jupyter-widgets/controls",
     "model_module_version": "1.5.0",
     "model_name": "HTMLModel",
     "state": {
      "_dom_classes": [],
      "_model_module": "@jupyter-widgets/controls",
      "_model_module_version": "1.5.0",
      "_model_name": "HTMLModel",
      "_view_count": null,
      "_view_module": "@jupyter-widgets/controls",
      "_view_module_version": "1.5.0",
      "_view_name": "HTMLView",
      "description": "",
      "description_tooltip": null,
      "layout": "IPY_MODEL_e1aeabfbd9964949a95f62b27ee83aee",
      "placeholder": "​",
      "style": "IPY_MODEL_8c7a664879704f15810b79ecf0a07f15",
      "value": "100%"
     }
    },
    "e1aeabfbd9964949a95f62b27ee83aee": {
     "model_module": "@jupyter-widgets/base",
     "model_module_version": "1.2.0",
     "model_name": "LayoutModel",
     "state": {
      "_model_module": "@jupyter-widgets/base",
      "_model_module_version": "1.2.0",
      "_model_name": "LayoutModel",
      "_view_count": null,
      "_view_module": "@jupyter-widgets/base",
      "_view_module_version": "1.2.0",
      "_view_name": "LayoutView",
      "align_content": null,
      "align_items": null,
      "align_self": null,
      "border": null,
      "bottom": null,
      "display": null,
      "flex": null,
      "flex_flow": null,
      "grid_area": null,
      "grid_auto_columns": null,
      "grid_auto_flow": null,
      "grid_auto_rows": null,
      "grid_column": null,
      "grid_gap": null,
      "grid_row": null,
      "grid_template_areas": null,
      "grid_template_columns": null,
      "grid_template_rows": null,
      "height": null,
      "justify_content": null,
      "justify_items": null,
      "left": null,
      "margin": null,
      "max_height": null,
      "max_width": null,
      "min_height": null,
      "min_width": null,
      "object_fit": null,
      "object_position": null,
      "order": null,
      "overflow": null,
      "overflow_x": null,
      "overflow_y": null,
      "padding": null,
      "right": null,
      "top": null,
      "visibility": null,
      "width": null
     }
    },
    "fd55b2972dfc4081aa358de5b02cb36e": {
     "model_module": "@jupyter-widgets/controls",
     "model_module_version": "1.5.0",
     "model_name": "FloatProgressModel",
     "state": {
      "_dom_classes": [],
      "_model_module": "@jupyter-widgets/controls",
      "_model_module_version": "1.5.0",
      "_model_name": "FloatProgressModel",
      "_view_count": null,
      "_view_module": "@jupyter-widgets/controls",
      "_view_module_version": "1.5.0",
      "_view_name": "ProgressView",
      "bar_style": "success",
      "description": "",
      "description_tooltip": null,
      "layout": "IPY_MODEL_64fba2e3940a4cdc9d753239e5dcbe47",
      "max": 50,
      "min": 0,
      "orientation": "horizontal",
      "style": "IPY_MODEL_79dcc82d6acd4773bc0d93e8c7ea0547",
      "value": 50
     }
    }
   }
  }
 },
 "nbformat": 4,
 "nbformat_minor": 4
}
